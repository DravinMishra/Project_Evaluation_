{
  "nbformat": 4,
  "nbformat_minor": 0,
  "metadata": {
    "colab": {
      "provenance": []
    },
    "kernelspec": {
      "name": "python3",
      "display_name": "Python 3"
    },
    "language_info": {
      "name": "python"
    }
  },
  "cells": [
    {
      "cell_type": "code",
      "execution_count": 37,
      "metadata": {
        "id": "JZATwyDn11Yi"
      },
      "outputs": [],
      "source": [
        "import pandas as pd\n",
        "\n",
        "df_ind = pd.read_csv('database_IND.csv')\n",
        "df_aus = pd.read_csv('database_AUS.csv')\n",
        "df_usa = pd.read_csv('database_USA.csv')"
      ]
    },
    {
      "cell_type": "code",
      "source": [
        "data = pd.concat([df_ind , df_aus , df_usa])"
      ],
      "metadata": {
        "id": "2RaHorOa25VS"
      },
      "execution_count": 38,
      "outputs": []
    },
    {
      "cell_type": "markdown",
      "source": [],
      "metadata": {
        "id": "_9PKWAoU5mjr"
      }
    },
    {
      "cell_type": "code",
      "source": [
        "data.head()"
      ],
      "metadata": {
        "colab": {
          "base_uri": "https://localhost:8080/",
          "height": 394
        },
        "id": "tDiq8Uqe3U9Y",
        "outputId": "d5aa2934-add2-4017-ce2c-2397065e0998"
      },
      "execution_count": 39,
      "outputs": [
        {
          "output_type": "execute_result",
          "data": {
            "text/plain": [
              "  country country_long                      name   gppd_idnr  capacity_mw  \\\n",
              "0     IND        India          ACME Solar Tower  WRI1020239          2.5   \n",
              "1     IND        India       ADITYA CEMENT WORKS  WRI1019881         98.0   \n",
              "2     IND        India  AES Saurashtra Windfarms  WRI1026669         39.2   \n",
              "3     IND        India               AGARTALA GT  IND0000001        135.0   \n",
              "4     IND        India              AKALTARA TPP  IND0000002       1800.0   \n",
              "\n",
              "   latitude  longitude primary_fuel other_fuel1 other_fuel2  ...  \\\n",
              "0   28.1839    73.2407        Solar         NaN         NaN  ...   \n",
              "1   24.7663    74.6090         Coal         NaN         NaN  ...   \n",
              "2   21.9038    69.3732         Wind         NaN         NaN  ...   \n",
              "3   23.8712    91.3602          Gas         NaN         NaN  ...   \n",
              "4   21.9603    82.4091         Coal         Oil         NaN  ...   \n",
              "\n",
              "  year_of_capacity_data  generation_gwh_2013 generation_gwh_2014  \\\n",
              "0                   NaN                  NaN                 NaN   \n",
              "1                   NaN                  NaN                 NaN   \n",
              "2                   NaN                  NaN                 NaN   \n",
              "3                2019.0              2.41461          617.789264   \n",
              "4                2019.0                  NaN         3035.550000   \n",
              "\n",
              "  generation_gwh_2015 generation_gwh_2016 generation_gwh_2017  \\\n",
              "0                 NaN                 NaN                 NaN   \n",
              "1                 NaN                 NaN                 NaN   \n",
              "2                 NaN                 NaN                 NaN   \n",
              "3             843.747          886.004428          663.774500   \n",
              "4            5916.370         6243.000000         5385.579736   \n",
              "\n",
              "   generation_gwh_2018  generation_gwh_2019         generation_data_source  \\\n",
              "0                  NaN                  NaN                            NaN   \n",
              "1                  NaN                  NaN                            NaN   \n",
              "2                  NaN                  NaN                            NaN   \n",
              "3           626.239128                  NaN  Central Electricity Authority   \n",
              "4          7279.000000                  NaN  Central Electricity Authority   \n",
              "\n",
              "   estimated_generation_gwh  \n",
              "0                       NaN  \n",
              "1                       NaN  \n",
              "2                       NaN  \n",
              "3                       NaN  \n",
              "4                       NaN  \n",
              "\n",
              "[5 rows x 27 columns]"
            ],
            "text/html": [
              "\n",
              "  <div id=\"df-b1433097-4371-4d39-bc8d-2dae2c56d4cd\" class=\"colab-df-container\">\n",
              "    <div>\n",
              "<style scoped>\n",
              "    .dataframe tbody tr th:only-of-type {\n",
              "        vertical-align: middle;\n",
              "    }\n",
              "\n",
              "    .dataframe tbody tr th {\n",
              "        vertical-align: top;\n",
              "    }\n",
              "\n",
              "    .dataframe thead th {\n",
              "        text-align: right;\n",
              "    }\n",
              "</style>\n",
              "<table border=\"1\" class=\"dataframe\">\n",
              "  <thead>\n",
              "    <tr style=\"text-align: right;\">\n",
              "      <th></th>\n",
              "      <th>country</th>\n",
              "      <th>country_long</th>\n",
              "      <th>name</th>\n",
              "      <th>gppd_idnr</th>\n",
              "      <th>capacity_mw</th>\n",
              "      <th>latitude</th>\n",
              "      <th>longitude</th>\n",
              "      <th>primary_fuel</th>\n",
              "      <th>other_fuel1</th>\n",
              "      <th>other_fuel2</th>\n",
              "      <th>...</th>\n",
              "      <th>year_of_capacity_data</th>\n",
              "      <th>generation_gwh_2013</th>\n",
              "      <th>generation_gwh_2014</th>\n",
              "      <th>generation_gwh_2015</th>\n",
              "      <th>generation_gwh_2016</th>\n",
              "      <th>generation_gwh_2017</th>\n",
              "      <th>generation_gwh_2018</th>\n",
              "      <th>generation_gwh_2019</th>\n",
              "      <th>generation_data_source</th>\n",
              "      <th>estimated_generation_gwh</th>\n",
              "    </tr>\n",
              "  </thead>\n",
              "  <tbody>\n",
              "    <tr>\n",
              "      <th>0</th>\n",
              "      <td>IND</td>\n",
              "      <td>India</td>\n",
              "      <td>ACME Solar Tower</td>\n",
              "      <td>WRI1020239</td>\n",
              "      <td>2.5</td>\n",
              "      <td>28.1839</td>\n",
              "      <td>73.2407</td>\n",
              "      <td>Solar</td>\n",
              "      <td>NaN</td>\n",
              "      <td>NaN</td>\n",
              "      <td>...</td>\n",
              "      <td>NaN</td>\n",
              "      <td>NaN</td>\n",
              "      <td>NaN</td>\n",
              "      <td>NaN</td>\n",
              "      <td>NaN</td>\n",
              "      <td>NaN</td>\n",
              "      <td>NaN</td>\n",
              "      <td>NaN</td>\n",
              "      <td>NaN</td>\n",
              "      <td>NaN</td>\n",
              "    </tr>\n",
              "    <tr>\n",
              "      <th>1</th>\n",
              "      <td>IND</td>\n",
              "      <td>India</td>\n",
              "      <td>ADITYA CEMENT WORKS</td>\n",
              "      <td>WRI1019881</td>\n",
              "      <td>98.0</td>\n",
              "      <td>24.7663</td>\n",
              "      <td>74.6090</td>\n",
              "      <td>Coal</td>\n",
              "      <td>NaN</td>\n",
              "      <td>NaN</td>\n",
              "      <td>...</td>\n",
              "      <td>NaN</td>\n",
              "      <td>NaN</td>\n",
              "      <td>NaN</td>\n",
              "      <td>NaN</td>\n",
              "      <td>NaN</td>\n",
              "      <td>NaN</td>\n",
              "      <td>NaN</td>\n",
              "      <td>NaN</td>\n",
              "      <td>NaN</td>\n",
              "      <td>NaN</td>\n",
              "    </tr>\n",
              "    <tr>\n",
              "      <th>2</th>\n",
              "      <td>IND</td>\n",
              "      <td>India</td>\n",
              "      <td>AES Saurashtra Windfarms</td>\n",
              "      <td>WRI1026669</td>\n",
              "      <td>39.2</td>\n",
              "      <td>21.9038</td>\n",
              "      <td>69.3732</td>\n",
              "      <td>Wind</td>\n",
              "      <td>NaN</td>\n",
              "      <td>NaN</td>\n",
              "      <td>...</td>\n",
              "      <td>NaN</td>\n",
              "      <td>NaN</td>\n",
              "      <td>NaN</td>\n",
              "      <td>NaN</td>\n",
              "      <td>NaN</td>\n",
              "      <td>NaN</td>\n",
              "      <td>NaN</td>\n",
              "      <td>NaN</td>\n",
              "      <td>NaN</td>\n",
              "      <td>NaN</td>\n",
              "    </tr>\n",
              "    <tr>\n",
              "      <th>3</th>\n",
              "      <td>IND</td>\n",
              "      <td>India</td>\n",
              "      <td>AGARTALA GT</td>\n",
              "      <td>IND0000001</td>\n",
              "      <td>135.0</td>\n",
              "      <td>23.8712</td>\n",
              "      <td>91.3602</td>\n",
              "      <td>Gas</td>\n",
              "      <td>NaN</td>\n",
              "      <td>NaN</td>\n",
              "      <td>...</td>\n",
              "      <td>2019.0</td>\n",
              "      <td>2.41461</td>\n",
              "      <td>617.789264</td>\n",
              "      <td>843.747</td>\n",
              "      <td>886.004428</td>\n",
              "      <td>663.774500</td>\n",
              "      <td>626.239128</td>\n",
              "      <td>NaN</td>\n",
              "      <td>Central Electricity Authority</td>\n",
              "      <td>NaN</td>\n",
              "    </tr>\n",
              "    <tr>\n",
              "      <th>4</th>\n",
              "      <td>IND</td>\n",
              "      <td>India</td>\n",
              "      <td>AKALTARA TPP</td>\n",
              "      <td>IND0000002</td>\n",
              "      <td>1800.0</td>\n",
              "      <td>21.9603</td>\n",
              "      <td>82.4091</td>\n",
              "      <td>Coal</td>\n",
              "      <td>Oil</td>\n",
              "      <td>NaN</td>\n",
              "      <td>...</td>\n",
              "      <td>2019.0</td>\n",
              "      <td>NaN</td>\n",
              "      <td>3035.550000</td>\n",
              "      <td>5916.370</td>\n",
              "      <td>6243.000000</td>\n",
              "      <td>5385.579736</td>\n",
              "      <td>7279.000000</td>\n",
              "      <td>NaN</td>\n",
              "      <td>Central Electricity Authority</td>\n",
              "      <td>NaN</td>\n",
              "    </tr>\n",
              "  </tbody>\n",
              "</table>\n",
              "<p>5 rows × 27 columns</p>\n",
              "</div>\n",
              "    <div class=\"colab-df-buttons\">\n",
              "\n",
              "  <div class=\"colab-df-container\">\n",
              "    <button class=\"colab-df-convert\" onclick=\"convertToInteractive('df-b1433097-4371-4d39-bc8d-2dae2c56d4cd')\"\n",
              "            title=\"Convert this dataframe to an interactive table.\"\n",
              "            style=\"display:none;\">\n",
              "\n",
              "  <svg xmlns=\"http://www.w3.org/2000/svg\" height=\"24px\" viewBox=\"0 -960 960 960\">\n",
              "    <path d=\"M120-120v-720h720v720H120Zm60-500h600v-160H180v160Zm220 220h160v-160H400v160Zm0 220h160v-160H400v160ZM180-400h160v-160H180v160Zm440 0h160v-160H620v160ZM180-180h160v-160H180v160Zm440 0h160v-160H620v160Z\"/>\n",
              "  </svg>\n",
              "    </button>\n",
              "\n",
              "  <style>\n",
              "    .colab-df-container {\n",
              "      display:flex;\n",
              "      gap: 12px;\n",
              "    }\n",
              "\n",
              "    .colab-df-convert {\n",
              "      background-color: #E8F0FE;\n",
              "      border: none;\n",
              "      border-radius: 50%;\n",
              "      cursor: pointer;\n",
              "      display: none;\n",
              "      fill: #1967D2;\n",
              "      height: 32px;\n",
              "      padding: 0 0 0 0;\n",
              "      width: 32px;\n",
              "    }\n",
              "\n",
              "    .colab-df-convert:hover {\n",
              "      background-color: #E2EBFA;\n",
              "      box-shadow: 0px 1px 2px rgba(60, 64, 67, 0.3), 0px 1px 3px 1px rgba(60, 64, 67, 0.15);\n",
              "      fill: #174EA6;\n",
              "    }\n",
              "\n",
              "    .colab-df-buttons div {\n",
              "      margin-bottom: 4px;\n",
              "    }\n",
              "\n",
              "    [theme=dark] .colab-df-convert {\n",
              "      background-color: #3B4455;\n",
              "      fill: #D2E3FC;\n",
              "    }\n",
              "\n",
              "    [theme=dark] .colab-df-convert:hover {\n",
              "      background-color: #434B5C;\n",
              "      box-shadow: 0px 1px 3px 1px rgba(0, 0, 0, 0.15);\n",
              "      filter: drop-shadow(0px 1px 2px rgba(0, 0, 0, 0.3));\n",
              "      fill: #FFFFFF;\n",
              "    }\n",
              "  </style>\n",
              "\n",
              "    <script>\n",
              "      const buttonEl =\n",
              "        document.querySelector('#df-b1433097-4371-4d39-bc8d-2dae2c56d4cd button.colab-df-convert');\n",
              "      buttonEl.style.display =\n",
              "        google.colab.kernel.accessAllowed ? 'block' : 'none';\n",
              "\n",
              "      async function convertToInteractive(key) {\n",
              "        const element = document.querySelector('#df-b1433097-4371-4d39-bc8d-2dae2c56d4cd');\n",
              "        const dataTable =\n",
              "          await google.colab.kernel.invokeFunction('convertToInteractive',\n",
              "                                                    [key], {});\n",
              "        if (!dataTable) return;\n",
              "\n",
              "        const docLinkHtml = 'Like what you see? Visit the ' +\n",
              "          '<a target=\"_blank\" href=https://colab.research.google.com/notebooks/data_table.ipynb>data table notebook</a>'\n",
              "          + ' to learn more about interactive tables.';\n",
              "        element.innerHTML = '';\n",
              "        dataTable['output_type'] = 'display_data';\n",
              "        await google.colab.output.renderOutput(dataTable, element);\n",
              "        const docLink = document.createElement('div');\n",
              "        docLink.innerHTML = docLinkHtml;\n",
              "        element.appendChild(docLink);\n",
              "      }\n",
              "    </script>\n",
              "  </div>\n",
              "\n",
              "\n",
              "<div id=\"df-2c06201b-fbda-48d4-b7db-275ceef6fb27\">\n",
              "  <button class=\"colab-df-quickchart\" onclick=\"quickchart('df-2c06201b-fbda-48d4-b7db-275ceef6fb27')\"\n",
              "            title=\"Suggest charts\"\n",
              "            style=\"display:none;\">\n",
              "\n",
              "<svg xmlns=\"http://www.w3.org/2000/svg\" height=\"24px\"viewBox=\"0 0 24 24\"\n",
              "     width=\"24px\">\n",
              "    <g>\n",
              "        <path d=\"M19 3H5c-1.1 0-2 .9-2 2v14c0 1.1.9 2 2 2h14c1.1 0 2-.9 2-2V5c0-1.1-.9-2-2-2zM9 17H7v-7h2v7zm4 0h-2V7h2v10zm4 0h-2v-4h2v4z\"/>\n",
              "    </g>\n",
              "</svg>\n",
              "  </button>\n",
              "\n",
              "<style>\n",
              "  .colab-df-quickchart {\n",
              "      --bg-color: #E8F0FE;\n",
              "      --fill-color: #1967D2;\n",
              "      --hover-bg-color: #E2EBFA;\n",
              "      --hover-fill-color: #174EA6;\n",
              "      --disabled-fill-color: #AAA;\n",
              "      --disabled-bg-color: #DDD;\n",
              "  }\n",
              "\n",
              "  [theme=dark] .colab-df-quickchart {\n",
              "      --bg-color: #3B4455;\n",
              "      --fill-color: #D2E3FC;\n",
              "      --hover-bg-color: #434B5C;\n",
              "      --hover-fill-color: #FFFFFF;\n",
              "      --disabled-bg-color: #3B4455;\n",
              "      --disabled-fill-color: #666;\n",
              "  }\n",
              "\n",
              "  .colab-df-quickchart {\n",
              "    background-color: var(--bg-color);\n",
              "    border: none;\n",
              "    border-radius: 50%;\n",
              "    cursor: pointer;\n",
              "    display: none;\n",
              "    fill: var(--fill-color);\n",
              "    height: 32px;\n",
              "    padding: 0;\n",
              "    width: 32px;\n",
              "  }\n",
              "\n",
              "  .colab-df-quickchart:hover {\n",
              "    background-color: var(--hover-bg-color);\n",
              "    box-shadow: 0 1px 2px rgba(60, 64, 67, 0.3), 0 1px 3px 1px rgba(60, 64, 67, 0.15);\n",
              "    fill: var(--button-hover-fill-color);\n",
              "  }\n",
              "\n",
              "  .colab-df-quickchart-complete:disabled,\n",
              "  .colab-df-quickchart-complete:disabled:hover {\n",
              "    background-color: var(--disabled-bg-color);\n",
              "    fill: var(--disabled-fill-color);\n",
              "    box-shadow: none;\n",
              "  }\n",
              "\n",
              "  .colab-df-spinner {\n",
              "    border: 2px solid var(--fill-color);\n",
              "    border-color: transparent;\n",
              "    border-bottom-color: var(--fill-color);\n",
              "    animation:\n",
              "      spin 1s steps(1) infinite;\n",
              "  }\n",
              "\n",
              "  @keyframes spin {\n",
              "    0% {\n",
              "      border-color: transparent;\n",
              "      border-bottom-color: var(--fill-color);\n",
              "      border-left-color: var(--fill-color);\n",
              "    }\n",
              "    20% {\n",
              "      border-color: transparent;\n",
              "      border-left-color: var(--fill-color);\n",
              "      border-top-color: var(--fill-color);\n",
              "    }\n",
              "    30% {\n",
              "      border-color: transparent;\n",
              "      border-left-color: var(--fill-color);\n",
              "      border-top-color: var(--fill-color);\n",
              "      border-right-color: var(--fill-color);\n",
              "    }\n",
              "    40% {\n",
              "      border-color: transparent;\n",
              "      border-right-color: var(--fill-color);\n",
              "      border-top-color: var(--fill-color);\n",
              "    }\n",
              "    60% {\n",
              "      border-color: transparent;\n",
              "      border-right-color: var(--fill-color);\n",
              "    }\n",
              "    80% {\n",
              "      border-color: transparent;\n",
              "      border-right-color: var(--fill-color);\n",
              "      border-bottom-color: var(--fill-color);\n",
              "    }\n",
              "    90% {\n",
              "      border-color: transparent;\n",
              "      border-bottom-color: var(--fill-color);\n",
              "    }\n",
              "  }\n",
              "</style>\n",
              "\n",
              "  <script>\n",
              "    async function quickchart(key) {\n",
              "      const quickchartButtonEl =\n",
              "        document.querySelector('#' + key + ' button');\n",
              "      quickchartButtonEl.disabled = true;  // To prevent multiple clicks.\n",
              "      quickchartButtonEl.classList.add('colab-df-spinner');\n",
              "      try {\n",
              "        const charts = await google.colab.kernel.invokeFunction(\n",
              "            'suggestCharts', [key], {});\n",
              "      } catch (error) {\n",
              "        console.error('Error during call to suggestCharts:', error);\n",
              "      }\n",
              "      quickchartButtonEl.classList.remove('colab-df-spinner');\n",
              "      quickchartButtonEl.classList.add('colab-df-quickchart-complete');\n",
              "    }\n",
              "    (() => {\n",
              "      let quickchartButtonEl =\n",
              "        document.querySelector('#df-2c06201b-fbda-48d4-b7db-275ceef6fb27 button');\n",
              "      quickchartButtonEl.style.display =\n",
              "        google.colab.kernel.accessAllowed ? 'block' : 'none';\n",
              "    })();\n",
              "  </script>\n",
              "</div>\n",
              "\n",
              "    </div>\n",
              "  </div>\n"
            ],
            "application/vnd.google.colaboratory.intrinsic+json": {
              "type": "dataframe",
              "variable_name": "data"
            }
          },
          "metadata": {},
          "execution_count": 39
        }
      ]
    },
    {
      "cell_type": "code",
      "source": [
        "data.tail()"
      ],
      "metadata": {
        "colab": {
          "base_uri": "https://localhost:8080/",
          "height": 429
        },
        "id": "JJJyEelJ3fZR",
        "outputId": "8a0ed384-b534-4843-c317-edf0882da0e7"
      },
      "execution_count": 40,
      "outputs": [
        {
          "output_type": "execute_result",
          "data": {
            "text/plain": [
              "      country              country_long                           name  \\\n",
              "11874     USA  United States of America       Zotos International WPGF   \n",
              "11875     USA  United States of America  Zumbro Community Solar Garden   \n",
              "11876     USA  United States of America            Zumbro Solar Garden   \n",
              "11877     USA  United States of America                           Zuni   \n",
              "11878     USA  United States of America            eBay - South Jordan   \n",
              "\n",
              "        gppd_idnr  capacity_mw  latitude  longitude primary_fuel other_fuel1  \\\n",
              "11874  USA0057648          3.4   42.8869   -76.9683         Wind         NaN   \n",
              "11875  USA0061574          1.0   44.3195   -92.6703        Solar         NaN   \n",
              "11876  USA0063426          0.0   44.0460   -92.7600          NaN         NaN   \n",
              "11877  USA0000478          0.0   39.7373  -105.0170          NaN         NaN   \n",
              "11878  USA0059281          9.8   40.5606  -112.0478          Gas         NaN   \n",
              "\n",
              "      other_fuel2  ... year_of_capacity_data  generation_gwh_2013  \\\n",
              "11874         NaN  ...                2019.0                3.671   \n",
              "11875         NaN  ...                2019.0                  NaN   \n",
              "11876         NaN  ...                2019.0                  NaN   \n",
              "11877         NaN  ...                2019.0                0.000   \n",
              "11878         NaN  ...                2019.0               12.968   \n",
              "\n",
              "      generation_gwh_2014 generation_gwh_2015 generation_gwh_2016  \\\n",
              "11874             2.46015               2.489               1.670   \n",
              "11875                 NaN                 NaN                 NaN   \n",
              "11876                 NaN                 NaN                 NaN   \n",
              "11877             0.00000               0.000                 NaN   \n",
              "11878            51.27600              71.505              76.392   \n",
              "\n",
              "      generation_gwh_2017  generation_gwh_2018  generation_gwh_2019  \\\n",
              "11874             1.23349                2.630                1.211   \n",
              "11875                 NaN                1.161                1.589   \n",
              "11876                 NaN                  NaN                  NaN   \n",
              "11877                 NaN                  NaN                  NaN   \n",
              "11878            76.63100               75.228             72.06506   \n",
              "\n",
              "                       generation_data_source  estimated_generation_gwh  \n",
              "11874  U.S. Energy Information Administration                       NaN  \n",
              "11875  U.S. Energy Information Administration                       NaN  \n",
              "11876                                     NaN                       NaN  \n",
              "11877  U.S. Energy Information Administration                       NaN  \n",
              "11878  U.S. Energy Information Administration                       NaN  \n",
              "\n",
              "[5 rows x 27 columns]"
            ],
            "text/html": [
              "\n",
              "  <div id=\"df-a12e0e6e-b194-4445-bde9-6cd4fa953f9c\" class=\"colab-df-container\">\n",
              "    <div>\n",
              "<style scoped>\n",
              "    .dataframe tbody tr th:only-of-type {\n",
              "        vertical-align: middle;\n",
              "    }\n",
              "\n",
              "    .dataframe tbody tr th {\n",
              "        vertical-align: top;\n",
              "    }\n",
              "\n",
              "    .dataframe thead th {\n",
              "        text-align: right;\n",
              "    }\n",
              "</style>\n",
              "<table border=\"1\" class=\"dataframe\">\n",
              "  <thead>\n",
              "    <tr style=\"text-align: right;\">\n",
              "      <th></th>\n",
              "      <th>country</th>\n",
              "      <th>country_long</th>\n",
              "      <th>name</th>\n",
              "      <th>gppd_idnr</th>\n",
              "      <th>capacity_mw</th>\n",
              "      <th>latitude</th>\n",
              "      <th>longitude</th>\n",
              "      <th>primary_fuel</th>\n",
              "      <th>other_fuel1</th>\n",
              "      <th>other_fuel2</th>\n",
              "      <th>...</th>\n",
              "      <th>year_of_capacity_data</th>\n",
              "      <th>generation_gwh_2013</th>\n",
              "      <th>generation_gwh_2014</th>\n",
              "      <th>generation_gwh_2015</th>\n",
              "      <th>generation_gwh_2016</th>\n",
              "      <th>generation_gwh_2017</th>\n",
              "      <th>generation_gwh_2018</th>\n",
              "      <th>generation_gwh_2019</th>\n",
              "      <th>generation_data_source</th>\n",
              "      <th>estimated_generation_gwh</th>\n",
              "    </tr>\n",
              "  </thead>\n",
              "  <tbody>\n",
              "    <tr>\n",
              "      <th>11874</th>\n",
              "      <td>USA</td>\n",
              "      <td>United States of America</td>\n",
              "      <td>Zotos International WPGF</td>\n",
              "      <td>USA0057648</td>\n",
              "      <td>3.4</td>\n",
              "      <td>42.8869</td>\n",
              "      <td>-76.9683</td>\n",
              "      <td>Wind</td>\n",
              "      <td>NaN</td>\n",
              "      <td>NaN</td>\n",
              "      <td>...</td>\n",
              "      <td>2019.0</td>\n",
              "      <td>3.671</td>\n",
              "      <td>2.46015</td>\n",
              "      <td>2.489</td>\n",
              "      <td>1.670</td>\n",
              "      <td>1.23349</td>\n",
              "      <td>2.630</td>\n",
              "      <td>1.211</td>\n",
              "      <td>U.S. Energy Information Administration</td>\n",
              "      <td>NaN</td>\n",
              "    </tr>\n",
              "    <tr>\n",
              "      <th>11875</th>\n",
              "      <td>USA</td>\n",
              "      <td>United States of America</td>\n",
              "      <td>Zumbro Community Solar Garden</td>\n",
              "      <td>USA0061574</td>\n",
              "      <td>1.0</td>\n",
              "      <td>44.3195</td>\n",
              "      <td>-92.6703</td>\n",
              "      <td>Solar</td>\n",
              "      <td>NaN</td>\n",
              "      <td>NaN</td>\n",
              "      <td>...</td>\n",
              "      <td>2019.0</td>\n",
              "      <td>NaN</td>\n",
              "      <td>NaN</td>\n",
              "      <td>NaN</td>\n",
              "      <td>NaN</td>\n",
              "      <td>NaN</td>\n",
              "      <td>1.161</td>\n",
              "      <td>1.589</td>\n",
              "      <td>U.S. Energy Information Administration</td>\n",
              "      <td>NaN</td>\n",
              "    </tr>\n",
              "    <tr>\n",
              "      <th>11876</th>\n",
              "      <td>USA</td>\n",
              "      <td>United States of America</td>\n",
              "      <td>Zumbro Solar Garden</td>\n",
              "      <td>USA0063426</td>\n",
              "      <td>0.0</td>\n",
              "      <td>44.0460</td>\n",
              "      <td>-92.7600</td>\n",
              "      <td>NaN</td>\n",
              "      <td>NaN</td>\n",
              "      <td>NaN</td>\n",
              "      <td>...</td>\n",
              "      <td>2019.0</td>\n",
              "      <td>NaN</td>\n",
              "      <td>NaN</td>\n",
              "      <td>NaN</td>\n",
              "      <td>NaN</td>\n",
              "      <td>NaN</td>\n",
              "      <td>NaN</td>\n",
              "      <td>NaN</td>\n",
              "      <td>NaN</td>\n",
              "      <td>NaN</td>\n",
              "    </tr>\n",
              "    <tr>\n",
              "      <th>11877</th>\n",
              "      <td>USA</td>\n",
              "      <td>United States of America</td>\n",
              "      <td>Zuni</td>\n",
              "      <td>USA0000478</td>\n",
              "      <td>0.0</td>\n",
              "      <td>39.7373</td>\n",
              "      <td>-105.0170</td>\n",
              "      <td>NaN</td>\n",
              "      <td>NaN</td>\n",
              "      <td>NaN</td>\n",
              "      <td>...</td>\n",
              "      <td>2019.0</td>\n",
              "      <td>0.000</td>\n",
              "      <td>0.00000</td>\n",
              "      <td>0.000</td>\n",
              "      <td>NaN</td>\n",
              "      <td>NaN</td>\n",
              "      <td>NaN</td>\n",
              "      <td>NaN</td>\n",
              "      <td>U.S. Energy Information Administration</td>\n",
              "      <td>NaN</td>\n",
              "    </tr>\n",
              "    <tr>\n",
              "      <th>11878</th>\n",
              "      <td>USA</td>\n",
              "      <td>United States of America</td>\n",
              "      <td>eBay - South Jordan</td>\n",
              "      <td>USA0059281</td>\n",
              "      <td>9.8</td>\n",
              "      <td>40.5606</td>\n",
              "      <td>-112.0478</td>\n",
              "      <td>Gas</td>\n",
              "      <td>NaN</td>\n",
              "      <td>NaN</td>\n",
              "      <td>...</td>\n",
              "      <td>2019.0</td>\n",
              "      <td>12.968</td>\n",
              "      <td>51.27600</td>\n",
              "      <td>71.505</td>\n",
              "      <td>76.392</td>\n",
              "      <td>76.63100</td>\n",
              "      <td>75.228</td>\n",
              "      <td>72.06506</td>\n",
              "      <td>U.S. Energy Information Administration</td>\n",
              "      <td>NaN</td>\n",
              "    </tr>\n",
              "  </tbody>\n",
              "</table>\n",
              "<p>5 rows × 27 columns</p>\n",
              "</div>\n",
              "    <div class=\"colab-df-buttons\">\n",
              "\n",
              "  <div class=\"colab-df-container\">\n",
              "    <button class=\"colab-df-convert\" onclick=\"convertToInteractive('df-a12e0e6e-b194-4445-bde9-6cd4fa953f9c')\"\n",
              "            title=\"Convert this dataframe to an interactive table.\"\n",
              "            style=\"display:none;\">\n",
              "\n",
              "  <svg xmlns=\"http://www.w3.org/2000/svg\" height=\"24px\" viewBox=\"0 -960 960 960\">\n",
              "    <path d=\"M120-120v-720h720v720H120Zm60-500h600v-160H180v160Zm220 220h160v-160H400v160Zm0 220h160v-160H400v160ZM180-400h160v-160H180v160Zm440 0h160v-160H620v160ZM180-180h160v-160H180v160Zm440 0h160v-160H620v160Z\"/>\n",
              "  </svg>\n",
              "    </button>\n",
              "\n",
              "  <style>\n",
              "    .colab-df-container {\n",
              "      display:flex;\n",
              "      gap: 12px;\n",
              "    }\n",
              "\n",
              "    .colab-df-convert {\n",
              "      background-color: #E8F0FE;\n",
              "      border: none;\n",
              "      border-radius: 50%;\n",
              "      cursor: pointer;\n",
              "      display: none;\n",
              "      fill: #1967D2;\n",
              "      height: 32px;\n",
              "      padding: 0 0 0 0;\n",
              "      width: 32px;\n",
              "    }\n",
              "\n",
              "    .colab-df-convert:hover {\n",
              "      background-color: #E2EBFA;\n",
              "      box-shadow: 0px 1px 2px rgba(60, 64, 67, 0.3), 0px 1px 3px 1px rgba(60, 64, 67, 0.15);\n",
              "      fill: #174EA6;\n",
              "    }\n",
              "\n",
              "    .colab-df-buttons div {\n",
              "      margin-bottom: 4px;\n",
              "    }\n",
              "\n",
              "    [theme=dark] .colab-df-convert {\n",
              "      background-color: #3B4455;\n",
              "      fill: #D2E3FC;\n",
              "    }\n",
              "\n",
              "    [theme=dark] .colab-df-convert:hover {\n",
              "      background-color: #434B5C;\n",
              "      box-shadow: 0px 1px 3px 1px rgba(0, 0, 0, 0.15);\n",
              "      filter: drop-shadow(0px 1px 2px rgba(0, 0, 0, 0.3));\n",
              "      fill: #FFFFFF;\n",
              "    }\n",
              "  </style>\n",
              "\n",
              "    <script>\n",
              "      const buttonEl =\n",
              "        document.querySelector('#df-a12e0e6e-b194-4445-bde9-6cd4fa953f9c button.colab-df-convert');\n",
              "      buttonEl.style.display =\n",
              "        google.colab.kernel.accessAllowed ? 'block' : 'none';\n",
              "\n",
              "      async function convertToInteractive(key) {\n",
              "        const element = document.querySelector('#df-a12e0e6e-b194-4445-bde9-6cd4fa953f9c');\n",
              "        const dataTable =\n",
              "          await google.colab.kernel.invokeFunction('convertToInteractive',\n",
              "                                                    [key], {});\n",
              "        if (!dataTable) return;\n",
              "\n",
              "        const docLinkHtml = 'Like what you see? Visit the ' +\n",
              "          '<a target=\"_blank\" href=https://colab.research.google.com/notebooks/data_table.ipynb>data table notebook</a>'\n",
              "          + ' to learn more about interactive tables.';\n",
              "        element.innerHTML = '';\n",
              "        dataTable['output_type'] = 'display_data';\n",
              "        await google.colab.output.renderOutput(dataTable, element);\n",
              "        const docLink = document.createElement('div');\n",
              "        docLink.innerHTML = docLinkHtml;\n",
              "        element.appendChild(docLink);\n",
              "      }\n",
              "    </script>\n",
              "  </div>\n",
              "\n",
              "\n",
              "<div id=\"df-916fd9cf-c826-4311-99f0-53854c7f44c3\">\n",
              "  <button class=\"colab-df-quickchart\" onclick=\"quickchart('df-916fd9cf-c826-4311-99f0-53854c7f44c3')\"\n",
              "            title=\"Suggest charts\"\n",
              "            style=\"display:none;\">\n",
              "\n",
              "<svg xmlns=\"http://www.w3.org/2000/svg\" height=\"24px\"viewBox=\"0 0 24 24\"\n",
              "     width=\"24px\">\n",
              "    <g>\n",
              "        <path d=\"M19 3H5c-1.1 0-2 .9-2 2v14c0 1.1.9 2 2 2h14c1.1 0 2-.9 2-2V5c0-1.1-.9-2-2-2zM9 17H7v-7h2v7zm4 0h-2V7h2v10zm4 0h-2v-4h2v4z\"/>\n",
              "    </g>\n",
              "</svg>\n",
              "  </button>\n",
              "\n",
              "<style>\n",
              "  .colab-df-quickchart {\n",
              "      --bg-color: #E8F0FE;\n",
              "      --fill-color: #1967D2;\n",
              "      --hover-bg-color: #E2EBFA;\n",
              "      --hover-fill-color: #174EA6;\n",
              "      --disabled-fill-color: #AAA;\n",
              "      --disabled-bg-color: #DDD;\n",
              "  }\n",
              "\n",
              "  [theme=dark] .colab-df-quickchart {\n",
              "      --bg-color: #3B4455;\n",
              "      --fill-color: #D2E3FC;\n",
              "      --hover-bg-color: #434B5C;\n",
              "      --hover-fill-color: #FFFFFF;\n",
              "      --disabled-bg-color: #3B4455;\n",
              "      --disabled-fill-color: #666;\n",
              "  }\n",
              "\n",
              "  .colab-df-quickchart {\n",
              "    background-color: var(--bg-color);\n",
              "    border: none;\n",
              "    border-radius: 50%;\n",
              "    cursor: pointer;\n",
              "    display: none;\n",
              "    fill: var(--fill-color);\n",
              "    height: 32px;\n",
              "    padding: 0;\n",
              "    width: 32px;\n",
              "  }\n",
              "\n",
              "  .colab-df-quickchart:hover {\n",
              "    background-color: var(--hover-bg-color);\n",
              "    box-shadow: 0 1px 2px rgba(60, 64, 67, 0.3), 0 1px 3px 1px rgba(60, 64, 67, 0.15);\n",
              "    fill: var(--button-hover-fill-color);\n",
              "  }\n",
              "\n",
              "  .colab-df-quickchart-complete:disabled,\n",
              "  .colab-df-quickchart-complete:disabled:hover {\n",
              "    background-color: var(--disabled-bg-color);\n",
              "    fill: var(--disabled-fill-color);\n",
              "    box-shadow: none;\n",
              "  }\n",
              "\n",
              "  .colab-df-spinner {\n",
              "    border: 2px solid var(--fill-color);\n",
              "    border-color: transparent;\n",
              "    border-bottom-color: var(--fill-color);\n",
              "    animation:\n",
              "      spin 1s steps(1) infinite;\n",
              "  }\n",
              "\n",
              "  @keyframes spin {\n",
              "    0% {\n",
              "      border-color: transparent;\n",
              "      border-bottom-color: var(--fill-color);\n",
              "      border-left-color: var(--fill-color);\n",
              "    }\n",
              "    20% {\n",
              "      border-color: transparent;\n",
              "      border-left-color: var(--fill-color);\n",
              "      border-top-color: var(--fill-color);\n",
              "    }\n",
              "    30% {\n",
              "      border-color: transparent;\n",
              "      border-left-color: var(--fill-color);\n",
              "      border-top-color: var(--fill-color);\n",
              "      border-right-color: var(--fill-color);\n",
              "    }\n",
              "    40% {\n",
              "      border-color: transparent;\n",
              "      border-right-color: var(--fill-color);\n",
              "      border-top-color: var(--fill-color);\n",
              "    }\n",
              "    60% {\n",
              "      border-color: transparent;\n",
              "      border-right-color: var(--fill-color);\n",
              "    }\n",
              "    80% {\n",
              "      border-color: transparent;\n",
              "      border-right-color: var(--fill-color);\n",
              "      border-bottom-color: var(--fill-color);\n",
              "    }\n",
              "    90% {\n",
              "      border-color: transparent;\n",
              "      border-bottom-color: var(--fill-color);\n",
              "    }\n",
              "  }\n",
              "</style>\n",
              "\n",
              "  <script>\n",
              "    async function quickchart(key) {\n",
              "      const quickchartButtonEl =\n",
              "        document.querySelector('#' + key + ' button');\n",
              "      quickchartButtonEl.disabled = true;  // To prevent multiple clicks.\n",
              "      quickchartButtonEl.classList.add('colab-df-spinner');\n",
              "      try {\n",
              "        const charts = await google.colab.kernel.invokeFunction(\n",
              "            'suggestCharts', [key], {});\n",
              "      } catch (error) {\n",
              "        console.error('Error during call to suggestCharts:', error);\n",
              "      }\n",
              "      quickchartButtonEl.classList.remove('colab-df-spinner');\n",
              "      quickchartButtonEl.classList.add('colab-df-quickchart-complete');\n",
              "    }\n",
              "    (() => {\n",
              "      let quickchartButtonEl =\n",
              "        document.querySelector('#df-916fd9cf-c826-4311-99f0-53854c7f44c3 button');\n",
              "      quickchartButtonEl.style.display =\n",
              "        google.colab.kernel.accessAllowed ? 'block' : 'none';\n",
              "    })();\n",
              "  </script>\n",
              "</div>\n",
              "\n",
              "    </div>\n",
              "  </div>\n"
            ],
            "application/vnd.google.colaboratory.intrinsic+json": {
              "type": "dataframe"
            }
          },
          "metadata": {},
          "execution_count": 40
        }
      ]
    },
    {
      "cell_type": "code",
      "source": [
        "import numpy as np\n",
        "import seaborn as sns\n",
        "from matplotlib import pyplot as plt\n"
      ],
      "metadata": {
        "id": "4s7mX34aJNn1"
      },
      "execution_count": 41,
      "outputs": []
    },
    {
      "cell_type": "code",
      "source": [
        "data.shape"
      ],
      "metadata": {
        "colab": {
          "base_uri": "https://localhost:8080/"
        },
        "id": "hX8rGJRpKaaZ",
        "outputId": "cf1997c3-e9ad-43c6-a90d-dd5caf561fba"
      },
      "execution_count": 42,
      "outputs": [
        {
          "output_type": "execute_result",
          "data": {
            "text/plain": [
              "(13298, 27)"
            ]
          },
          "metadata": {},
          "execution_count": 42
        }
      ]
    },
    {
      "cell_type": "markdown",
      "source": [
        "*We have 13298 rows and 27 columns in our final dataset.*"
      ],
      "metadata": {
        "id": "drCbYhi3KfMP"
      }
    },
    {
      "cell_type": "code",
      "source": [
        "# Checking for null values\n",
        "\n",
        "data.isnull().sum()"
      ],
      "metadata": {
        "colab": {
          "base_uri": "https://localhost:8080/"
        },
        "id": "MU7oZ66YKm71",
        "outputId": "b1cd71a7-5307-4499-964c-c2395afeeec1"
      },
      "execution_count": 10,
      "outputs": [
        {
          "output_type": "execute_result",
          "data": {
            "text/plain": [
              "country                        0\n",
              "country_long                   0\n",
              "name                           0\n",
              "gppd_idnr                      0\n",
              "capacity_mw                    6\n",
              "latitude                      63\n",
              "longitude                     63\n",
              "primary_fuel                1091\n",
              "other_fuel1                 7022\n",
              "other_fuel2                 7878\n",
              "other_fuel3                 7984\n",
              "commissioning_year          1696\n",
              "owner                        587\n",
              "source                         0\n",
              "url                            0\n",
              "geolocation_source            21\n",
              "wepp_id                     8036\n",
              "year_of_capacity_data        416\n",
              "generation_gwh_2013         3704\n",
              "generation_gwh_2014         3510\n",
              "generation_gwh_2015         3235\n",
              "generation_gwh_2016         2842\n",
              "generation_gwh_2017         2506\n",
              "generation_gwh_2018         2170\n",
              "generation_gwh_2019         2542\n",
              "generation_data_source      1615\n",
              "estimated_generation_gwh    8036\n",
              "dtype: int64"
            ]
          },
          "metadata": {},
          "execution_count": 10
        }
      ]
    },
    {
      "cell_type": "markdown",
      "source": [
        "*Remove those columns , which has maximum number of null values because If we fill those values than prediction will not correct.*"
      ],
      "metadata": {
        "id": "U7fe_b1QLEdn"
      }
    },
    {
      "cell_type": "code",
      "source": [
        "data.drop(['estimated_generation_gwh' , 'wepp_id' , 'other_fuel3' , 'other_fuel2' , 'other_fuel1'] , axis = 1 , inplace = True)"
      ],
      "metadata": {
        "id": "Rc024RavLXh3"
      },
      "execution_count": 43,
      "outputs": []
    },
    {
      "cell_type": "code",
      "source": [
        "data.isnull().sum()"
      ],
      "metadata": {
        "colab": {
          "base_uri": "https://localhost:8080/"
        },
        "id": "CVgYH4CxMA7F",
        "outputId": "312b7984-3ca6-4d50-c955-89f7c36f8cdf"
      },
      "execution_count": 44,
      "outputs": [
        {
          "output_type": "execute_result",
          "data": {
            "text/plain": [
              "country                      0\n",
              "country_long                 0\n",
              "name                         0\n",
              "gppd_idnr                    0\n",
              "capacity_mw                  6\n",
              "latitude                    78\n",
              "longitude                   78\n",
              "primary_fuel              2004\n",
              "commissioning_year        2644\n",
              "owner                      593\n",
              "source                       0\n",
              "url                          0\n",
              "geolocation_source          23\n",
              "year_of_capacity_data      438\n",
              "generation_gwh_2013       6128\n",
              "generation_gwh_2014       5764\n",
              "generation_gwh_2015       5305\n",
              "generation_gwh_2016       4597\n",
              "generation_gwh_2017       4006\n",
              "generation_gwh_2018       3440\n",
              "generation_gwh_2019       3520\n",
              "generation_data_source    2463\n",
              "dtype: int64"
            ]
          },
          "metadata": {},
          "execution_count": 44
        }
      ]
    },
    {
      "cell_type": "markdown",
      "source": [
        "*Removing unnecessarry columns*"
      ],
      "metadata": {
        "id": "XSwo4YyRMjbS"
      }
    },
    {
      "cell_type": "code",
      "source": [
        "data.drop(['gppd_idnr','owner','generation_data_source'],axis=1,inplace=True)"
      ],
      "metadata": {
        "id": "apA0zUENM50n"
      },
      "execution_count": 13,
      "outputs": []
    },
    {
      "cell_type": "code",
      "source": [
        "data.describe()  #Checking for statistical summary of DataSet\n"
      ],
      "metadata": {
        "colab": {
          "base_uri": "https://localhost:8080/",
          "height": 320
        },
        "id": "rxS5n6g0M-dH",
        "outputId": "8dd4e978-0919-4602-f5da-834d464c59ce"
      },
      "execution_count": 45,
      "outputs": [
        {
          "output_type": "execute_result",
          "data": {
            "text/plain": [
              "        capacity_mw      latitude     longitude  commissioning_year  \\\n",
              "count  13292.000000  13220.000000  13220.000000        10654.000000   \n",
              "mean     117.738717     35.053213    -73.794217         1998.184904   \n",
              "std      347.169038     15.444195     62.868834           24.017781   \n",
              "min        0.000000    -42.888300   -171.712400         1896.000000   \n",
              "25%        1.500000     33.901700   -104.659875         1988.000000   \n",
              "50%        5.500000     38.389750    -87.346000         2008.000000   \n",
              "75%       52.725000     42.175125    -75.475925         2015.000000   \n",
              "max     6809.000000    425.246100    153.434100         2020.000000   \n",
              "\n",
              "       year_of_capacity_data  generation_gwh_2013  generation_gwh_2014  \\\n",
              "count                12860.0          7170.000000          7534.000000   \n",
              "mean                  2019.0           563.383222           635.739731   \n",
              "std                      0.0          2030.523760          2193.172655   \n",
              "min                   2019.0          -947.600000          -989.619000   \n",
              "25%                   2019.0             1.653075             2.018000   \n",
              "50%                   2019.0            21.384500            22.241000   \n",
              "75%                   2019.0           185.326498           217.069500   \n",
              "max                   2019.0         31431.080000         32320.917000   \n",
              "\n",
              "       generation_gwh_2015  generation_gwh_2016  generation_gwh_2017  \\\n",
              "count          7993.000000          8701.000000          9292.000000   \n",
              "mean            616.801877           561.784508           532.472482   \n",
              "std            2148.167470          2050.411295          2001.411908   \n",
              "min            -864.428000          -768.620000          -934.944000   \n",
              "25%               2.140000             2.108000             2.063750   \n",
              "50%              19.504000            15.410278            13.433861   \n",
              "75%             200.279000           173.348004           157.889688   \n",
              "max           32525.595000         32377.477000         35116.000000   \n",
              "\n",
              "       generation_gwh_2018  \n",
              "count          9858.000000  \n",
              "mean            513.679016  \n",
              "std            1963.485305  \n",
              "min            -982.622000  \n",
              "25%               2.141250  \n",
              "50%              12.308500  \n",
              "75%             149.141249  \n",
              "max           35136.000000  "
            ],
            "text/html": [
              "\n",
              "  <div id=\"df-2b6bef35-4086-4e3a-b0f7-d61b4779c7d3\" class=\"colab-df-container\">\n",
              "    <div>\n",
              "<style scoped>\n",
              "    .dataframe tbody tr th:only-of-type {\n",
              "        vertical-align: middle;\n",
              "    }\n",
              "\n",
              "    .dataframe tbody tr th {\n",
              "        vertical-align: top;\n",
              "    }\n",
              "\n",
              "    .dataframe thead th {\n",
              "        text-align: right;\n",
              "    }\n",
              "</style>\n",
              "<table border=\"1\" class=\"dataframe\">\n",
              "  <thead>\n",
              "    <tr style=\"text-align: right;\">\n",
              "      <th></th>\n",
              "      <th>capacity_mw</th>\n",
              "      <th>latitude</th>\n",
              "      <th>longitude</th>\n",
              "      <th>commissioning_year</th>\n",
              "      <th>year_of_capacity_data</th>\n",
              "      <th>generation_gwh_2013</th>\n",
              "      <th>generation_gwh_2014</th>\n",
              "      <th>generation_gwh_2015</th>\n",
              "      <th>generation_gwh_2016</th>\n",
              "      <th>generation_gwh_2017</th>\n",
              "      <th>generation_gwh_2018</th>\n",
              "    </tr>\n",
              "  </thead>\n",
              "  <tbody>\n",
              "    <tr>\n",
              "      <th>count</th>\n",
              "      <td>13292.000000</td>\n",
              "      <td>13220.000000</td>\n",
              "      <td>13220.000000</td>\n",
              "      <td>10654.000000</td>\n",
              "      <td>12860.0</td>\n",
              "      <td>7170.000000</td>\n",
              "      <td>7534.000000</td>\n",
              "      <td>7993.000000</td>\n",
              "      <td>8701.000000</td>\n",
              "      <td>9292.000000</td>\n",
              "      <td>9858.000000</td>\n",
              "    </tr>\n",
              "    <tr>\n",
              "      <th>mean</th>\n",
              "      <td>117.738717</td>\n",
              "      <td>35.053213</td>\n",
              "      <td>-73.794217</td>\n",
              "      <td>1998.184904</td>\n",
              "      <td>2019.0</td>\n",
              "      <td>563.383222</td>\n",
              "      <td>635.739731</td>\n",
              "      <td>616.801877</td>\n",
              "      <td>561.784508</td>\n",
              "      <td>532.472482</td>\n",
              "      <td>513.679016</td>\n",
              "    </tr>\n",
              "    <tr>\n",
              "      <th>std</th>\n",
              "      <td>347.169038</td>\n",
              "      <td>15.444195</td>\n",
              "      <td>62.868834</td>\n",
              "      <td>24.017781</td>\n",
              "      <td>0.0</td>\n",
              "      <td>2030.523760</td>\n",
              "      <td>2193.172655</td>\n",
              "      <td>2148.167470</td>\n",
              "      <td>2050.411295</td>\n",
              "      <td>2001.411908</td>\n",
              "      <td>1963.485305</td>\n",
              "    </tr>\n",
              "    <tr>\n",
              "      <th>min</th>\n",
              "      <td>0.000000</td>\n",
              "      <td>-42.888300</td>\n",
              "      <td>-171.712400</td>\n",
              "      <td>1896.000000</td>\n",
              "      <td>2019.0</td>\n",
              "      <td>-947.600000</td>\n",
              "      <td>-989.619000</td>\n",
              "      <td>-864.428000</td>\n",
              "      <td>-768.620000</td>\n",
              "      <td>-934.944000</td>\n",
              "      <td>-982.622000</td>\n",
              "    </tr>\n",
              "    <tr>\n",
              "      <th>25%</th>\n",
              "      <td>1.500000</td>\n",
              "      <td>33.901700</td>\n",
              "      <td>-104.659875</td>\n",
              "      <td>1988.000000</td>\n",
              "      <td>2019.0</td>\n",
              "      <td>1.653075</td>\n",
              "      <td>2.018000</td>\n",
              "      <td>2.140000</td>\n",
              "      <td>2.108000</td>\n",
              "      <td>2.063750</td>\n",
              "      <td>2.141250</td>\n",
              "    </tr>\n",
              "    <tr>\n",
              "      <th>50%</th>\n",
              "      <td>5.500000</td>\n",
              "      <td>38.389750</td>\n",
              "      <td>-87.346000</td>\n",
              "      <td>2008.000000</td>\n",
              "      <td>2019.0</td>\n",
              "      <td>21.384500</td>\n",
              "      <td>22.241000</td>\n",
              "      <td>19.504000</td>\n",
              "      <td>15.410278</td>\n",
              "      <td>13.433861</td>\n",
              "      <td>12.308500</td>\n",
              "    </tr>\n",
              "    <tr>\n",
              "      <th>75%</th>\n",
              "      <td>52.725000</td>\n",
              "      <td>42.175125</td>\n",
              "      <td>-75.475925</td>\n",
              "      <td>2015.000000</td>\n",
              "      <td>2019.0</td>\n",
              "      <td>185.326498</td>\n",
              "      <td>217.069500</td>\n",
              "      <td>200.279000</td>\n",
              "      <td>173.348004</td>\n",
              "      <td>157.889688</td>\n",
              "      <td>149.141249</td>\n",
              "    </tr>\n",
              "    <tr>\n",
              "      <th>max</th>\n",
              "      <td>6809.000000</td>\n",
              "      <td>425.246100</td>\n",
              "      <td>153.434100</td>\n",
              "      <td>2020.000000</td>\n",
              "      <td>2019.0</td>\n",
              "      <td>31431.080000</td>\n",
              "      <td>32320.917000</td>\n",
              "      <td>32525.595000</td>\n",
              "      <td>32377.477000</td>\n",
              "      <td>35116.000000</td>\n",
              "      <td>35136.000000</td>\n",
              "    </tr>\n",
              "  </tbody>\n",
              "</table>\n",
              "</div>\n",
              "    <div class=\"colab-df-buttons\">\n",
              "\n",
              "  <div class=\"colab-df-container\">\n",
              "    <button class=\"colab-df-convert\" onclick=\"convertToInteractive('df-2b6bef35-4086-4e3a-b0f7-d61b4779c7d3')\"\n",
              "            title=\"Convert this dataframe to an interactive table.\"\n",
              "            style=\"display:none;\">\n",
              "\n",
              "  <svg xmlns=\"http://www.w3.org/2000/svg\" height=\"24px\" viewBox=\"0 -960 960 960\">\n",
              "    <path d=\"M120-120v-720h720v720H120Zm60-500h600v-160H180v160Zm220 220h160v-160H400v160Zm0 220h160v-160H400v160ZM180-400h160v-160H180v160Zm440 0h160v-160H620v160ZM180-180h160v-160H180v160Zm440 0h160v-160H620v160Z\"/>\n",
              "  </svg>\n",
              "    </button>\n",
              "\n",
              "  <style>\n",
              "    .colab-df-container {\n",
              "      display:flex;\n",
              "      gap: 12px;\n",
              "    }\n",
              "\n",
              "    .colab-df-convert {\n",
              "      background-color: #E8F0FE;\n",
              "      border: none;\n",
              "      border-radius: 50%;\n",
              "      cursor: pointer;\n",
              "      display: none;\n",
              "      fill: #1967D2;\n",
              "      height: 32px;\n",
              "      padding: 0 0 0 0;\n",
              "      width: 32px;\n",
              "    }\n",
              "\n",
              "    .colab-df-convert:hover {\n",
              "      background-color: #E2EBFA;\n",
              "      box-shadow: 0px 1px 2px rgba(60, 64, 67, 0.3), 0px 1px 3px 1px rgba(60, 64, 67, 0.15);\n",
              "      fill: #174EA6;\n",
              "    }\n",
              "\n",
              "    .colab-df-buttons div {\n",
              "      margin-bottom: 4px;\n",
              "    }\n",
              "\n",
              "    [theme=dark] .colab-df-convert {\n",
              "      background-color: #3B4455;\n",
              "      fill: #D2E3FC;\n",
              "    }\n",
              "\n",
              "    [theme=dark] .colab-df-convert:hover {\n",
              "      background-color: #434B5C;\n",
              "      box-shadow: 0px 1px 3px 1px rgba(0, 0, 0, 0.15);\n",
              "      filter: drop-shadow(0px 1px 2px rgba(0, 0, 0, 0.3));\n",
              "      fill: #FFFFFF;\n",
              "    }\n",
              "  </style>\n",
              "\n",
              "    <script>\n",
              "      const buttonEl =\n",
              "        document.querySelector('#df-2b6bef35-4086-4e3a-b0f7-d61b4779c7d3 button.colab-df-convert');\n",
              "      buttonEl.style.display =\n",
              "        google.colab.kernel.accessAllowed ? 'block' : 'none';\n",
              "\n",
              "      async function convertToInteractive(key) {\n",
              "        const element = document.querySelector('#df-2b6bef35-4086-4e3a-b0f7-d61b4779c7d3');\n",
              "        const dataTable =\n",
              "          await google.colab.kernel.invokeFunction('convertToInteractive',\n",
              "                                                    [key], {});\n",
              "        if (!dataTable) return;\n",
              "\n",
              "        const docLinkHtml = 'Like what you see? Visit the ' +\n",
              "          '<a target=\"_blank\" href=https://colab.research.google.com/notebooks/data_table.ipynb>data table notebook</a>'\n",
              "          + ' to learn more about interactive tables.';\n",
              "        element.innerHTML = '';\n",
              "        dataTable['output_type'] = 'display_data';\n",
              "        await google.colab.output.renderOutput(dataTable, element);\n",
              "        const docLink = document.createElement('div');\n",
              "        docLink.innerHTML = docLinkHtml;\n",
              "        element.appendChild(docLink);\n",
              "      }\n",
              "    </script>\n",
              "  </div>\n",
              "\n",
              "\n",
              "<div id=\"df-bdc81d5f-a9e1-44c2-ac59-162abbc9cb8c\">\n",
              "  <button class=\"colab-df-quickchart\" onclick=\"quickchart('df-bdc81d5f-a9e1-44c2-ac59-162abbc9cb8c')\"\n",
              "            title=\"Suggest charts\"\n",
              "            style=\"display:none;\">\n",
              "\n",
              "<svg xmlns=\"http://www.w3.org/2000/svg\" height=\"24px\"viewBox=\"0 0 24 24\"\n",
              "     width=\"24px\">\n",
              "    <g>\n",
              "        <path d=\"M19 3H5c-1.1 0-2 .9-2 2v14c0 1.1.9 2 2 2h14c1.1 0 2-.9 2-2V5c0-1.1-.9-2-2-2zM9 17H7v-7h2v7zm4 0h-2V7h2v10zm4 0h-2v-4h2v4z\"/>\n",
              "    </g>\n",
              "</svg>\n",
              "  </button>\n",
              "\n",
              "<style>\n",
              "  .colab-df-quickchart {\n",
              "      --bg-color: #E8F0FE;\n",
              "      --fill-color: #1967D2;\n",
              "      --hover-bg-color: #E2EBFA;\n",
              "      --hover-fill-color: #174EA6;\n",
              "      --disabled-fill-color: #AAA;\n",
              "      --disabled-bg-color: #DDD;\n",
              "  }\n",
              "\n",
              "  [theme=dark] .colab-df-quickchart {\n",
              "      --bg-color: #3B4455;\n",
              "      --fill-color: #D2E3FC;\n",
              "      --hover-bg-color: #434B5C;\n",
              "      --hover-fill-color: #FFFFFF;\n",
              "      --disabled-bg-color: #3B4455;\n",
              "      --disabled-fill-color: #666;\n",
              "  }\n",
              "\n",
              "  .colab-df-quickchart {\n",
              "    background-color: var(--bg-color);\n",
              "    border: none;\n",
              "    border-radius: 50%;\n",
              "    cursor: pointer;\n",
              "    display: none;\n",
              "    fill: var(--fill-color);\n",
              "    height: 32px;\n",
              "    padding: 0;\n",
              "    width: 32px;\n",
              "  }\n",
              "\n",
              "  .colab-df-quickchart:hover {\n",
              "    background-color: var(--hover-bg-color);\n",
              "    box-shadow: 0 1px 2px rgba(60, 64, 67, 0.3), 0 1px 3px 1px rgba(60, 64, 67, 0.15);\n",
              "    fill: var(--button-hover-fill-color);\n",
              "  }\n",
              "\n",
              "  .colab-df-quickchart-complete:disabled,\n",
              "  .colab-df-quickchart-complete:disabled:hover {\n",
              "    background-color: var(--disabled-bg-color);\n",
              "    fill: var(--disabled-fill-color);\n",
              "    box-shadow: none;\n",
              "  }\n",
              "\n",
              "  .colab-df-spinner {\n",
              "    border: 2px solid var(--fill-color);\n",
              "    border-color: transparent;\n",
              "    border-bottom-color: var(--fill-color);\n",
              "    animation:\n",
              "      spin 1s steps(1) infinite;\n",
              "  }\n",
              "\n",
              "  @keyframes spin {\n",
              "    0% {\n",
              "      border-color: transparent;\n",
              "      border-bottom-color: var(--fill-color);\n",
              "      border-left-color: var(--fill-color);\n",
              "    }\n",
              "    20% {\n",
              "      border-color: transparent;\n",
              "      border-left-color: var(--fill-color);\n",
              "      border-top-color: var(--fill-color);\n",
              "    }\n",
              "    30% {\n",
              "      border-color: transparent;\n",
              "      border-left-color: var(--fill-color);\n",
              "      border-top-color: var(--fill-color);\n",
              "      border-right-color: var(--fill-color);\n",
              "    }\n",
              "    40% {\n",
              "      border-color: transparent;\n",
              "      border-right-color: var(--fill-color);\n",
              "      border-top-color: var(--fill-color);\n",
              "    }\n",
              "    60% {\n",
              "      border-color: transparent;\n",
              "      border-right-color: var(--fill-color);\n",
              "    }\n",
              "    80% {\n",
              "      border-color: transparent;\n",
              "      border-right-color: var(--fill-color);\n",
              "      border-bottom-color: var(--fill-color);\n",
              "    }\n",
              "    90% {\n",
              "      border-color: transparent;\n",
              "      border-bottom-color: var(--fill-color);\n",
              "    }\n",
              "  }\n",
              "</style>\n",
              "\n",
              "  <script>\n",
              "    async function quickchart(key) {\n",
              "      const quickchartButtonEl =\n",
              "        document.querySelector('#' + key + ' button');\n",
              "      quickchartButtonEl.disabled = true;  // To prevent multiple clicks.\n",
              "      quickchartButtonEl.classList.add('colab-df-spinner');\n",
              "      try {\n",
              "        const charts = await google.colab.kernel.invokeFunction(\n",
              "            'suggestCharts', [key], {});\n",
              "      } catch (error) {\n",
              "        console.error('Error during call to suggestCharts:', error);\n",
              "      }\n",
              "      quickchartButtonEl.classList.remove('colab-df-spinner');\n",
              "      quickchartButtonEl.classList.add('colab-df-quickchart-complete');\n",
              "    }\n",
              "    (() => {\n",
              "      let quickchartButtonEl =\n",
              "        document.querySelector('#df-bdc81d5f-a9e1-44c2-ac59-162abbc9cb8c button');\n",
              "      quickchartButtonEl.style.display =\n",
              "        google.colab.kernel.accessAllowed ? 'block' : 'none';\n",
              "    })();\n",
              "  </script>\n",
              "</div>\n",
              "\n",
              "    </div>\n",
              "  </div>\n"
            ],
            "application/vnd.google.colaboratory.intrinsic+json": {
              "type": "dataframe",
              "summary": "{\n  \"name\": \"data\",\n  \"rows\": 8,\n  \"fields\": [\n    {\n      \"column\": \"capacity_mw\",\n      \"properties\": {\n        \"dtype\": \"number\",\n        \"std\": 4928.051706517813,\n        \"min\": 0.0,\n        \"max\": 13292.0,\n        \"num_unique_values\": 8,\n        \"samples\": [\n          117.73871667168221,\n          5.5,\n          13292.0\n        ],\n        \"semantic_type\": \"\",\n        \"description\": \"\"\n      }\n    },\n    {\n      \"column\": \"latitude\",\n      \"properties\": {\n        \"dtype\": \"number\",\n        \"std\": 4648.571963645284,\n        \"min\": -42.8883,\n        \"max\": 13220.0,\n        \"num_unique_values\": 8,\n        \"samples\": [\n          35.05321302571861,\n          38.38975,\n          13220.0\n        ],\n        \"semantic_type\": \"\",\n        \"description\": \"\"\n      }\n    },\n    {\n      \"column\": \"longitude\",\n      \"properties\": {\n        \"dtype\": \"number\",\n        \"std\": 4690.089819640795,\n        \"min\": -171.7124,\n        \"max\": 13220.0,\n        \"num_unique_values\": 8,\n        \"samples\": [\n          -73.7942169364599,\n          -87.346,\n          13220.0\n        ],\n        \"semantic_type\": \"\",\n        \"description\": \"\"\n      }\n    },\n    {\n      \"column\": \"commissioning_year\",\n      \"properties\": {\n        \"dtype\": \"number\",\n        \"std\": 3237.229598428765,\n        \"min\": 24.017781280446876,\n        \"max\": 10654.0,\n        \"num_unique_values\": 8,\n        \"samples\": [\n          1998.1849038819223,\n          2008.0,\n          10654.0\n        ],\n        \"semantic_type\": \"\",\n        \"description\": \"\"\n      }\n    },\n    {\n      \"column\": \"year_of_capacity_data\",\n      \"properties\": {\n        \"dtype\": \"number\",\n        \"std\": 3997.770476867611,\n        \"min\": 0.0,\n        \"max\": 12860.0,\n        \"num_unique_values\": 3,\n        \"samples\": [\n          12860.0,\n          2019.0,\n          0.0\n        ],\n        \"semantic_type\": \"\",\n        \"description\": \"\"\n      }\n    },\n    {\n      \"column\": \"generation_gwh_2013\",\n      \"properties\": {\n        \"dtype\": \"number\",\n        \"std\": 10955.17747714672,\n        \"min\": -947.6,\n        \"max\": 31431.08,\n        \"num_unique_values\": 8,\n        \"samples\": [\n          563.3832215863473,\n          21.3845,\n          7170.0\n        ],\n        \"semantic_type\": \"\",\n        \"description\": \"\"\n      }\n    },\n    {\n      \"column\": \"generation_gwh_2014\",\n      \"properties\": {\n        \"dtype\": \"number\",\n        \"std\": 11261.94787123045,\n        \"min\": -989.619,\n        \"max\": 32320.917,\n        \"num_unique_values\": 8,\n        \"samples\": [\n          635.7397309975636,\n          22.241,\n          7534.0\n        ],\n        \"semantic_type\": \"\",\n        \"description\": \"\"\n      }\n    },\n    {\n      \"column\": \"generation_gwh_2015\",\n      \"properties\": {\n        \"dtype\": \"number\",\n        \"std\": 11340.840777537689,\n        \"min\": -864.428,\n        \"max\": 32525.595,\n        \"num_unique_values\": 8,\n        \"samples\": [\n          616.8018768866242,\n          19.504,\n          7993.0\n        ],\n        \"semantic_type\": \"\",\n        \"description\": \"\"\n      }\n    },\n    {\n      \"column\": \"generation_gwh_2016\",\n      \"properties\": {\n        \"dtype\": \"number\",\n        \"std\": 11318.813670451293,\n        \"min\": -768.62,\n        \"max\": 32377.477,\n        \"num_unique_values\": 8,\n        \"samples\": [\n          561.7845084416516,\n          15.41027778,\n          8701.0\n        ],\n        \"semantic_type\": \"\",\n        \"description\": \"\"\n      }\n    },\n    {\n      \"column\": \"generation_gwh_2017\",\n      \"properties\": {\n        \"dtype\": \"number\",\n        \"std\": 12294.512699063172,\n        \"min\": -934.944,\n        \"max\": 35116.0,\n        \"num_unique_values\": 8,\n        \"samples\": [\n          532.4724823418534,\n          13.433861109999999,\n          9292.0\n        ],\n        \"semantic_type\": \"\",\n        \"description\": \"\"\n      }\n    },\n    {\n      \"column\": \"generation_gwh_2018\",\n      \"properties\": {\n        \"dtype\": \"number\",\n        \"std\": 12333.305969408757,\n        \"min\": -982.622,\n        \"max\": 35136.0,\n        \"num_unique_values\": 8,\n        \"samples\": [\n          513.679016459637,\n          12.3085,\n          9858.0\n        ],\n        \"semantic_type\": \"\",\n        \"description\": \"\"\n      }\n    }\n  ]\n}"
            }
          },
          "metadata": {},
          "execution_count": 45
        }
      ]
    },
    {
      "cell_type": "code",
      "source": [
        "data.nunique()"
      ],
      "metadata": {
        "colab": {
          "base_uri": "https://localhost:8080/"
        },
        "id": "xNJkkgfxNQy5",
        "outputId": "6cb4a900-285e-4484-8eca-cadb4a0cac13"
      },
      "execution_count": 46,
      "outputs": [
        {
          "output_type": "execute_result",
          "data": {
            "text/plain": [
              "country                       3\n",
              "country_long                  3\n",
              "name                      13266\n",
              "gppd_idnr                 13298\n",
              "capacity_mw                2304\n",
              "latitude                  12385\n",
              "longitude                 12733\n",
              "primary_fuel                 14\n",
              "commissioning_year         1936\n",
              "owner                      5877\n",
              "source                      206\n",
              "url                         325\n",
              "geolocation_source            5\n",
              "year_of_capacity_data         1\n",
              "generation_gwh_2013        5616\n",
              "generation_gwh_2014        6306\n",
              "generation_gwh_2015        6692\n",
              "generation_gwh_2016        7150\n",
              "generation_gwh_2017        7630\n",
              "generation_gwh_2018        8040\n",
              "generation_gwh_2019        8368\n",
              "generation_data_source        3\n",
              "dtype: int64"
            ]
          },
          "metadata": {},
          "execution_count": 46
        }
      ]
    },
    {
      "cell_type": "markdown",
      "source": [
        "*Removing those columns, which has very less number of unique values and also those columns will be removed which has no use*"
      ],
      "metadata": {
        "id": "HzItV9zTNVDx"
      }
    },
    {
      "cell_type": "code",
      "source": [
        "data.drop(['year_of_capacity_data' , 'name' , 'url'] ,axis = 1 , inplace = True)"
      ],
      "metadata": {
        "id": "F_o_3CH1N0Zc"
      },
      "execution_count": 47,
      "outputs": []
    },
    {
      "cell_type": "code",
      "source": [
        "data['geolocation_source'].unique()"
      ],
      "metadata": {
        "colab": {
          "base_uri": "https://localhost:8080/"
        },
        "id": "mzZ0NmdYOKMV",
        "outputId": "f4b8343b-e26c-4774-ec7f-60a1341373dc"
      },
      "execution_count": 48,
      "outputs": [
        {
          "output_type": "execute_result",
          "data": {
            "text/plain": [
              "array(['National Renewable Energy Laboratory', 'WRI', nan,\n",
              "       'Industry About',\n",
              "       'Australian Renewable Energy Mapping Infrastructure',\n",
              "       'U.S. Energy Information Administration'], dtype=object)"
            ]
          },
          "metadata": {},
          "execution_count": 48
        }
      ]
    },
    {
      "cell_type": "markdown",
      "source": [
        "*Here we can see that there is NAN present in column, So we need to fill this*"
      ],
      "metadata": {
        "id": "sDH0l4qDOuyW"
      }
    },
    {
      "cell_type": "code",
      "source": [
        "# filling geolocation_source with mode because category data\n",
        "\n",
        "data['geolocation_source'].fillna(data['geolocation_source'].mode()[0] , inplace = True)"
      ],
      "metadata": {
        "id": "D58iyVItO5Ud"
      },
      "execution_count": 49,
      "outputs": []
    },
    {
      "cell_type": "code",
      "source": [
        "data['geolocation_source'].isnull().sum()"
      ],
      "metadata": {
        "colab": {
          "base_uri": "https://localhost:8080/"
        },
        "id": "FtJ4XZzMScrD",
        "outputId": "807c6930-9170-4e97-97c2-3cdb1bce555c"
      },
      "execution_count": 50,
      "outputs": [
        {
          "output_type": "execute_result",
          "data": {
            "text/plain": [
              "0"
            ]
          },
          "metadata": {},
          "execution_count": 50
        }
      ]
    },
    {
      "cell_type": "code",
      "source": [
        "data.info()"
      ],
      "metadata": {
        "colab": {
          "base_uri": "https://localhost:8080/"
        },
        "id": "kj_w9t0AQTEt",
        "outputId": "b9efaa4c-5115-4e72-ddef-d06d3d659a94"
      },
      "execution_count": 51,
      "outputs": [
        {
          "output_type": "stream",
          "name": "stdout",
          "text": [
            "<class 'pandas.core.frame.DataFrame'>\n",
            "Index: 13298 entries, 0 to 11878\n",
            "Data columns (total 19 columns):\n",
            " #   Column                  Non-Null Count  Dtype  \n",
            "---  ------                  --------------  -----  \n",
            " 0   country                 13298 non-null  object \n",
            " 1   country_long            13298 non-null  object \n",
            " 2   gppd_idnr               13298 non-null  object \n",
            " 3   capacity_mw             13292 non-null  float64\n",
            " 4   latitude                13220 non-null  float64\n",
            " 5   longitude               13220 non-null  float64\n",
            " 6   primary_fuel            11294 non-null  object \n",
            " 7   commissioning_year      10654 non-null  float64\n",
            " 8   owner                   12705 non-null  object \n",
            " 9   source                  13298 non-null  object \n",
            " 10  geolocation_source      13298 non-null  object \n",
            " 11  generation_gwh_2013     7170 non-null   float64\n",
            " 12  generation_gwh_2014     7534 non-null   float64\n",
            " 13  generation_gwh_2015     7993 non-null   float64\n",
            " 14  generation_gwh_2016     8701 non-null   float64\n",
            " 15  generation_gwh_2017     9292 non-null   float64\n",
            " 16  generation_gwh_2018     9858 non-null   float64\n",
            " 17  generation_gwh_2019     9778 non-null   object \n",
            " 18  generation_data_source  10835 non-null  object \n",
            "dtypes: float64(10), object(9)\n",
            "memory usage: 2.0+ MB\n"
          ]
        }
      ]
    },
    {
      "cell_type": "code",
      "source": [
        "# filling all the null values with median in numrical values\n",
        "\n",
        "# # Calculate the median for each column\n",
        "# medians = data[['capacity_mw', 'latitude', 'longitude', 'commissioning_year',\n",
        "#                 'generation_gwh_2013', 'generation_gwh_2014', 'generation_gwh_2015',\n",
        "#                 'generation_gwh_2016', 'generation_gwh_2017', 'generation_gwh_2018',\n",
        "#                 'generation_gwh_2019']].median()\n",
        "\n",
        "# # Fill missing values in each column with its median\n",
        "# data.fillna(medians, inplace=True)\n",
        "\n",
        "# import pandas as pd\n",
        "\n",
        "# # Remove rows with non-numerical values in the 'generation_gwh_2019' column\n",
        "# data = data[pd.to_numeric(data['generation_gwh_2019'], errors='coerce').notnull()]\n",
        "\n",
        "# # Calculate the median for each column\n",
        "# medians = data[['capacity_mw', 'latitude', 'longitude', 'commissioning_year',\n",
        "#                 'generation_gwh_2013', 'generation_gwh_2014', 'generation_gwh_2015',\n",
        "#                 'generation_gwh_2016', 'generation_gwh_2017', 'generation_gwh_2018',\n",
        "#                 'generation_gwh_2019']].median()\n",
        "\n",
        "# # Fill missing values in each column with its median\n",
        "# data.fillna(medians, inplace=True)\n",
        "\n",
        "\n",
        "\n",
        "# Calculate the mode for each specified column\n",
        "modes = data[['capacity_mw', 'latitude', 'longitude', 'commissioning_year',\n",
        "              'generation_gwh_2013', 'generation_gwh_2014', 'generation_gwh_2015',\n",
        "              'generation_gwh_2016', 'generation_gwh_2017', 'generation_gwh_2018',\n",
        "              'generation_gwh_2019']].mode().iloc[0]\n",
        "\n",
        "# Fill missing values in each column with its mode\n",
        "data.fillna(modes, inplace=True)\n"
      ],
      "metadata": {
        "id": "Fud6aXM_Pqah"
      },
      "execution_count": 52,
      "outputs": []
    },
    {
      "cell_type": "code",
      "source": [
        "data.isnull().sum()"
      ],
      "metadata": {
        "colab": {
          "base_uri": "https://localhost:8080/"
        },
        "id": "UEJI9pf3Vdg3",
        "outputId": "cb22f309-98ea-4d06-d799-f5a24d4a6fab"
      },
      "execution_count": 53,
      "outputs": [
        {
          "output_type": "execute_result",
          "data": {
            "text/plain": [
              "country                      0\n",
              "country_long                 0\n",
              "gppd_idnr                    0\n",
              "capacity_mw                  0\n",
              "latitude                     0\n",
              "longitude                    0\n",
              "primary_fuel              2004\n",
              "commissioning_year           0\n",
              "owner                      593\n",
              "source                       0\n",
              "geolocation_source           0\n",
              "generation_gwh_2013          0\n",
              "generation_gwh_2014          0\n",
              "generation_gwh_2015          0\n",
              "generation_gwh_2016          0\n",
              "generation_gwh_2017          0\n",
              "generation_gwh_2018          0\n",
              "generation_gwh_2019          0\n",
              "generation_data_source    2463\n",
              "dtype: int64"
            ]
          },
          "metadata": {},
          "execution_count": 53
        }
      ]
    },
    {
      "cell_type": "code",
      "source": [
        "import pandas as pd\n",
        "\n",
        "# Remove rows with non-numerical values in the 'primary_fuel' column\n",
        "data = data[pd.to_numeric(data['primary_fuel'], errors='coerce').notnull()]"
      ],
      "metadata": {
        "id": "VwbwXNuVVlQI"
      },
      "execution_count": 24,
      "outputs": []
    },
    {
      "cell_type": "code",
      "source": [
        "# Calculate the median of the 'primary_fuel' column\n",
        "med = data['primary_fuel'].median()\n"
      ],
      "metadata": {
        "id": "zNYJNfJMXBBw"
      },
      "execution_count": 25,
      "outputs": []
    },
    {
      "cell_type": "code",
      "source": [
        "# Fill missing values in the 'primary_fuel' column with the median\n",
        "data.fillna(med, inplace=True)"
      ],
      "metadata": {
        "id": "yfehKdafXEVA"
      },
      "execution_count": 26,
      "outputs": []
    },
    {
      "cell_type": "code",
      "source": [
        "data.isnull().sum()"
      ],
      "metadata": {
        "colab": {
          "base_uri": "https://localhost:8080/"
        },
        "id": "kvkx3lO5XG3a",
        "outputId": "6d0649d8-7f12-4bc0-941b-a5d47d889442"
      },
      "execution_count": 27,
      "outputs": [
        {
          "output_type": "execute_result",
          "data": {
            "text/plain": [
              "country                0.0\n",
              "country_long           0.0\n",
              "capacity_mw            0.0\n",
              "latitude               0.0\n",
              "longitude              0.0\n",
              "primary_fuel           0.0\n",
              "commissioning_year     0.0\n",
              "source                 0.0\n",
              "geolocation_source     0.0\n",
              "generation_gwh_2013    0.0\n",
              "generation_gwh_2014    0.0\n",
              "generation_gwh_2015    0.0\n",
              "generation_gwh_2016    0.0\n",
              "generation_gwh_2017    0.0\n",
              "generation_gwh_2018    0.0\n",
              "generation_gwh_2019    0.0\n",
              "dtype: float64"
            ]
          },
          "metadata": {},
          "execution_count": 27
        }
      ]
    },
    {
      "cell_type": "code",
      "source": [
        "data.nunique()"
      ],
      "metadata": {
        "colab": {
          "base_uri": "https://localhost:8080/"
        },
        "id": "lECw9G9vXLi0",
        "outputId": "f7119f12-83c6-4917-ba8b-069638c81c60"
      },
      "execution_count": 28,
      "outputs": [
        {
          "output_type": "execute_result",
          "data": {
            "text/plain": [
              "country                0\n",
              "country_long           0\n",
              "capacity_mw            0\n",
              "latitude               0\n",
              "longitude              0\n",
              "primary_fuel           0\n",
              "commissioning_year     0\n",
              "source                 0\n",
              "geolocation_source     0\n",
              "generation_gwh_2013    0\n",
              "generation_gwh_2014    0\n",
              "generation_gwh_2015    0\n",
              "generation_gwh_2016    0\n",
              "generation_gwh_2017    0\n",
              "generation_gwh_2018    0\n",
              "generation_gwh_2019    0\n",
              "dtype: int64"
            ]
          },
          "metadata": {},
          "execution_count": 28
        }
      ]
    },
    {
      "cell_type": "code",
      "source": [
        "data.info()"
      ],
      "metadata": {
        "colab": {
          "base_uri": "https://localhost:8080/"
        },
        "id": "SEvfciLy6OH9",
        "outputId": "b536a0a5-dfc0-41a5-c908-082154527cad"
      },
      "execution_count": 29,
      "outputs": [
        {
          "output_type": "stream",
          "name": "stdout",
          "text": [
            "<class 'pandas.core.frame.DataFrame'>\n",
            "Index: 0 entries\n",
            "Data columns (total 16 columns):\n",
            " #   Column               Non-Null Count  Dtype  \n",
            "---  ------               --------------  -----  \n",
            " 0   country              0 non-null      object \n",
            " 1   country_long         0 non-null      object \n",
            " 2   capacity_mw          0 non-null      float64\n",
            " 3   latitude             0 non-null      float64\n",
            " 4   longitude            0 non-null      float64\n",
            " 5   primary_fuel         0 non-null      object \n",
            " 6   commissioning_year   0 non-null      float64\n",
            " 7   source               0 non-null      object \n",
            " 8   geolocation_source   0 non-null      object \n",
            " 9   generation_gwh_2013  0 non-null      float64\n",
            " 10  generation_gwh_2014  0 non-null      float64\n",
            " 11  generation_gwh_2015  0 non-null      float64\n",
            " 12  generation_gwh_2016  0 non-null      float64\n",
            " 13  generation_gwh_2017  0 non-null      float64\n",
            " 14  generation_gwh_2018  0 non-null      float64\n",
            " 15  generation_gwh_2019  0 non-null      float64\n",
            "dtypes: float64(11), object(5)\n",
            "memory usage: 0.0+ bytes\n"
          ]
        }
      ]
    },
    {
      "cell_type": "code",
      "source": [
        "# sns.set_style(\"whitegrid\")\n",
        "# sns.countplot(x=\"primary_fuel\", data=data)"
      ],
      "metadata": {
        "id": "oA7Rnldu6a9B"
      },
      "execution_count": 32,
      "outputs": []
    },
    {
      "cell_type": "markdown",
      "source": [
        "# **EDA : EXPLORATORY DATA ANALYSIS**"
      ],
      "metadata": {
        "id": "IoPstHAs63dz"
      }
    },
    {
      "cell_type": "code",
      "source": [
        "data.head(10)"
      ],
      "metadata": {
        "colab": {
          "base_uri": "https://localhost:8080/",
          "height": 73
        },
        "id": "FweEsZQ26-4d",
        "outputId": "a3e42112-8656-4bc5-cbfc-552cbb4de40b"
      },
      "execution_count": 34,
      "outputs": [
        {
          "output_type": "execute_result",
          "data": {
            "text/plain": [
              "Empty DataFrame\n",
              "Columns: [country, country_long, capacity_mw, latitude, longitude, primary_fuel, commissioning_year, source, geolocation_source, generation_gwh_2013, generation_gwh_2014, generation_gwh_2015, generation_gwh_2016, generation_gwh_2017, generation_gwh_2018, generation_gwh_2019]\n",
              "Index: []"
            ],
            "text/html": [
              "\n",
              "  <div id=\"df-862c8b07-48f4-4ee1-93e2-e726f1aa0ce4\" class=\"colab-df-container\">\n",
              "    <div>\n",
              "<style scoped>\n",
              "    .dataframe tbody tr th:only-of-type {\n",
              "        vertical-align: middle;\n",
              "    }\n",
              "\n",
              "    .dataframe tbody tr th {\n",
              "        vertical-align: top;\n",
              "    }\n",
              "\n",
              "    .dataframe thead th {\n",
              "        text-align: right;\n",
              "    }\n",
              "</style>\n",
              "<table border=\"1\" class=\"dataframe\">\n",
              "  <thead>\n",
              "    <tr style=\"text-align: right;\">\n",
              "      <th></th>\n",
              "      <th>country</th>\n",
              "      <th>country_long</th>\n",
              "      <th>capacity_mw</th>\n",
              "      <th>latitude</th>\n",
              "      <th>longitude</th>\n",
              "      <th>primary_fuel</th>\n",
              "      <th>commissioning_year</th>\n",
              "      <th>source</th>\n",
              "      <th>geolocation_source</th>\n",
              "      <th>generation_gwh_2013</th>\n",
              "      <th>generation_gwh_2014</th>\n",
              "      <th>generation_gwh_2015</th>\n",
              "      <th>generation_gwh_2016</th>\n",
              "      <th>generation_gwh_2017</th>\n",
              "      <th>generation_gwh_2018</th>\n",
              "      <th>generation_gwh_2019</th>\n",
              "    </tr>\n",
              "  </thead>\n",
              "  <tbody>\n",
              "  </tbody>\n",
              "</table>\n",
              "</div>\n",
              "    <div class=\"colab-df-buttons\">\n",
              "\n",
              "  <div class=\"colab-df-container\">\n",
              "    <button class=\"colab-df-convert\" onclick=\"convertToInteractive('df-862c8b07-48f4-4ee1-93e2-e726f1aa0ce4')\"\n",
              "            title=\"Convert this dataframe to an interactive table.\"\n",
              "            style=\"display:none;\">\n",
              "\n",
              "  <svg xmlns=\"http://www.w3.org/2000/svg\" height=\"24px\" viewBox=\"0 -960 960 960\">\n",
              "    <path d=\"M120-120v-720h720v720H120Zm60-500h600v-160H180v160Zm220 220h160v-160H400v160Zm0 220h160v-160H400v160ZM180-400h160v-160H180v160Zm440 0h160v-160H620v160ZM180-180h160v-160H180v160Zm440 0h160v-160H620v160Z\"/>\n",
              "  </svg>\n",
              "    </button>\n",
              "\n",
              "  <style>\n",
              "    .colab-df-container {\n",
              "      display:flex;\n",
              "      gap: 12px;\n",
              "    }\n",
              "\n",
              "    .colab-df-convert {\n",
              "      background-color: #E8F0FE;\n",
              "      border: none;\n",
              "      border-radius: 50%;\n",
              "      cursor: pointer;\n",
              "      display: none;\n",
              "      fill: #1967D2;\n",
              "      height: 32px;\n",
              "      padding: 0 0 0 0;\n",
              "      width: 32px;\n",
              "    }\n",
              "\n",
              "    .colab-df-convert:hover {\n",
              "      background-color: #E2EBFA;\n",
              "      box-shadow: 0px 1px 2px rgba(60, 64, 67, 0.3), 0px 1px 3px 1px rgba(60, 64, 67, 0.15);\n",
              "      fill: #174EA6;\n",
              "    }\n",
              "\n",
              "    .colab-df-buttons div {\n",
              "      margin-bottom: 4px;\n",
              "    }\n",
              "\n",
              "    [theme=dark] .colab-df-convert {\n",
              "      background-color: #3B4455;\n",
              "      fill: #D2E3FC;\n",
              "    }\n",
              "\n",
              "    [theme=dark] .colab-df-convert:hover {\n",
              "      background-color: #434B5C;\n",
              "      box-shadow: 0px 1px 3px 1px rgba(0, 0, 0, 0.15);\n",
              "      filter: drop-shadow(0px 1px 2px rgba(0, 0, 0, 0.3));\n",
              "      fill: #FFFFFF;\n",
              "    }\n",
              "  </style>\n",
              "\n",
              "    <script>\n",
              "      const buttonEl =\n",
              "        document.querySelector('#df-862c8b07-48f4-4ee1-93e2-e726f1aa0ce4 button.colab-df-convert');\n",
              "      buttonEl.style.display =\n",
              "        google.colab.kernel.accessAllowed ? 'block' : 'none';\n",
              "\n",
              "      async function convertToInteractive(key) {\n",
              "        const element = document.querySelector('#df-862c8b07-48f4-4ee1-93e2-e726f1aa0ce4');\n",
              "        const dataTable =\n",
              "          await google.colab.kernel.invokeFunction('convertToInteractive',\n",
              "                                                    [key], {});\n",
              "        if (!dataTable) return;\n",
              "\n",
              "        const docLinkHtml = 'Like what you see? Visit the ' +\n",
              "          '<a target=\"_blank\" href=https://colab.research.google.com/notebooks/data_table.ipynb>data table notebook</a>'\n",
              "          + ' to learn more about interactive tables.';\n",
              "        element.innerHTML = '';\n",
              "        dataTable['output_type'] = 'display_data';\n",
              "        await google.colab.output.renderOutput(dataTable, element);\n",
              "        const docLink = document.createElement('div');\n",
              "        docLink.innerHTML = docLinkHtml;\n",
              "        element.appendChild(docLink);\n",
              "      }\n",
              "    </script>\n",
              "  </div>\n",
              "\n",
              "\n",
              "    </div>\n",
              "  </div>\n"
            ],
            "application/vnd.google.colaboratory.intrinsic+json": {
              "type": "dataframe",
              "variable_name": "data",
              "repr_error": "Out of range float values are not JSON compliant: nan"
            }
          },
          "metadata": {},
          "execution_count": 34
        }
      ]
    },
    {
      "cell_type": "code",
      "source": [
        "data.corr()"
      ],
      "metadata": {
        "colab": {
          "base_uri": "https://localhost:8080/"
        },
        "id": "dlMt56Lh7a8v",
        "outputId": "9d104f99-13dc-4e41-d6ed-b3abd076362a"
      },
      "execution_count": 35,
      "outputs": [
        {
          "output_type": "execute_result",
          "data": {
            "text/plain": [
              "(0, 16)"
            ]
          },
          "metadata": {},
          "execution_count": 35
        }
      ]
    },
    {
      "cell_type": "code",
      "source": [
        "sns.heatmap(data.corr , annot = True , linewidth=1)"
      ],
      "metadata": {
        "colab": {
          "base_uri": "https://localhost:8080/"
        },
        "id": "Lfe7EPsh7eOW",
        "outputId": "e0bd71a0-7bad-4e93-8bc4-77ed1c0de24b"
      },
      "execution_count": 36,
      "outputs": [
        {
          "output_type": "stream",
          "name": "stdout",
          "text": [
            "Empty DataFrame\n",
            "Columns: [country, country_long, capacity_mw, latitude, longitude, primary_fuel, commissioning_year, source, geolocation_source, generation_gwh_2013, generation_gwh_2014, generation_gwh_2015, generation_gwh_2016, generation_gwh_2017, generation_gwh_2018, generation_gwh_2019]\n",
            "Index: []\n"
          ]
        }
      ]
    },
    {
      "cell_type": "markdown",
      "source": [
        "*Here we can notice generation_gwh_2013, generation_gwh_2014, generation_gwh_2015, generation_gwh_2016, generation_gwh_2017 are positively correlated to capacity_mw and latitude is negative correlated*"
      ],
      "metadata": {
        "id": "PNg9em4k9oqd"
      }
    },
    {
      "cell_type": "code",
      "source": [
        "plt.figure(figsize = (8 , 4))\n",
        "sns.scatterplot(x = 'capacity_mw' , y = 'generation_gwh_2013' , data = data)"
      ],
      "metadata": {
        "id": "4niQ6fWu9lXs"
      },
      "execution_count": null,
      "outputs": []
    },
    {
      "cell_type": "markdown",
      "source": [
        "*-> We can notice here as electricity generation in gigawatt-hour increasing also increasing the no of electrical generating capacity in megawatts in 2013*"
      ],
      "metadata": {
        "id": "MhUeb5kr9_p3"
      }
    },
    {
      "cell_type": "code",
      "source": [
        "plt.figure(figsize=(8,4))\n",
        "sns.scatterplot(x='capacity_mw',y='generation_gwh_2014',data=df)"
      ],
      "metadata": {
        "id": "kWGDr0oF-CEP"
      },
      "execution_count": null,
      "outputs": []
    },
    {
      "cell_type": "markdown",
      "source": [
        "*In 2014 we can also notice here as electricity generation in gigawatt-hour increasing also increasing the no of electrical generating capacity in megawatts in 2014*"
      ],
      "metadata": {
        "id": "9zkStLeL-GId"
      }
    },
    {
      "cell_type": "code",
      "source": [
        "plt.figure(figsize=(8,4))\n",
        "sns.scatterplot(x='capacity_mw',y='generation_gwh_2015',data=df)"
      ],
      "metadata": {
        "id": "al6-styb-DmT"
      },
      "execution_count": null,
      "outputs": []
    },
    {
      "cell_type": "markdown",
      "source": [
        "*In 2015 we can also notice here as electricity generation in gigawatt-hour increasing also increasing the no of electrical generating capacity in megawatts in 2015*"
      ],
      "metadata": {
        "id": "r-HwILUX-Mkw"
      }
    },
    {
      "cell_type": "code",
      "source": [
        "plt.figure(figsize=(8,4))\n",
        "sns.scatterplot(x='capacity_mw',y='generation_gwh_2016',data=df)"
      ],
      "metadata": {
        "id": "quxkdH7a-Dgq"
      },
      "execution_count": null,
      "outputs": []
    },
    {
      "cell_type": "markdown",
      "source": [
        "*In 2016 we can also notice here as electricity generation in gigawatt-hour increasing also increasing the no of electrical generating capacity in megawatts in 2016*"
      ],
      "metadata": {
        "id": "gJT4Amad-TUY"
      }
    },
    {
      "cell_type": "code",
      "source": [
        "plt.figure(figsize=(8,4))\n",
        "sns.scatterplot(x='capacity_mw',y='generation_gwh_2017',data=df)"
      ],
      "metadata": {
        "id": "9eQPAPBi-DdS"
      },
      "execution_count": null,
      "outputs": []
    },
    {
      "cell_type": "markdown",
      "source": [
        "*In 2017 we can also notice here as electricity generation in gigawatt-hour increasing also increasing the no of electrical generating capacity in megawatts in 2017*"
      ],
      "metadata": {
        "id": "h0ZjzJqJ-Zfd"
      }
    },
    {
      "cell_type": "code",
      "source": [
        "plt.figure(figsize=(8,4))\n",
        "sns.scatterplot(x='capacity_mw',y='latitude',data=df)"
      ],
      "metadata": {
        "id": "Jiu6zNIL-DZp"
      },
      "execution_count": null,
      "outputs": []
    },
    {
      "cell_type": "code",
      "source": [
        "plt.figure(figsize=(8,4))\n",
        "sns.scatterplot(x='primary_fuel',y='generation_gwh_2013',data=df)"
      ],
      "metadata": {
        "id": "M6LwYLHg-DVy"
      },
      "execution_count": null,
      "outputs": []
    },
    {
      "cell_type": "markdown",
      "source": [
        "*-> We can here the coal is most used fuel in 2013 and Nuclear,Gas and hydro on average use and Solar,Wind Bomass nad oil was very less used*"
      ],
      "metadata": {
        "id": "32eVlZmQ-jHh"
      }
    },
    {
      "cell_type": "code",
      "source": [
        "plt.figure(figsize=(8,4))\n",
        "sns.scatterplot(x='primary_fuel',y='generation_gwh_2014',data=df)"
      ],
      "metadata": {
        "id": "cL4_sKUF-mjN"
      },
      "execution_count": null,
      "outputs": []
    },
    {
      "cell_type": "code",
      "source": [
        "plt.figure(figsize=(8,4))\n",
        "sns.scatterplot(x='primary_fuel',y='generation_gwh_2015',data=df)"
      ],
      "metadata": {
        "id": "ggAJo4Ee-qd9"
      },
      "execution_count": null,
      "outputs": []
    },
    {
      "cell_type": "code",
      "source": [
        "plt.figure(figsize=(8,4))\n",
        "sns.scatterplot(x='primary_fuel',y='generation_gwh_2016',data=df)"
      ],
      "metadata": {
        "id": "ImJWC6z0-qZ-"
      },
      "execution_count": null,
      "outputs": []
    },
    {
      "cell_type": "code",
      "source": [
        "plt.figure(figsize=(8,4))\n",
        "sns.scatterplot(x='primary_fuel',y='generation_gwh_2017',data=df)"
      ],
      "metadata": {
        "id": "GZNrnu0X-qWK"
      },
      "execution_count": null,
      "outputs": []
    },
    {
      "cell_type": "markdown",
      "source": [
        "*In all of the year 2013 to 2017 the coal is most used fuel in 2013 and Nuclear,Gas and hydro on average use and Solar,Wind Bomass nad oil was very less used*"
      ],
      "metadata": {
        "id": "mISmeZ6E-3DW"
      }
    },
    {
      "cell_type": "code",
      "source": [
        "plt.figure(figsize=(8,4))\n",
        "sns.scatterplot(x='primary_fuel',y='latitude',data=df)"
      ],
      "metadata": {
        "id": "vob1Kwf9-p98"
      },
      "execution_count": null,
      "outputs": []
    },
    {
      "cell_type": "code",
      "source": [
        "plt.figure(figsize=(8,4))\n",
        "sns.scatterplot(x='capacity_mw',y='primary_fuel',data=df)"
      ],
      "metadata": {
        "id": "dmVc87QJ-8a3"
      },
      "execution_count": null,
      "outputs": []
    },
    {
      "cell_type": "markdown",
      "source": [
        "*Coal is on Max Electrical generating capacity in Megawatts*"
      ],
      "metadata": {
        "id": "wzuK5l7f_DCC"
      }
    },
    {
      "cell_type": "markdown",
      "source": [
        "# Using LabelEncoder for convering Categorical to Numerical"
      ],
      "metadata": {
        "id": "ZBX1cekk_Gwq"
      }
    },
    {
      "cell_type": "code",
      "source": [
        "data.info()"
      ],
      "metadata": {
        "id": "Nj0G37Z4_Jfx"
      },
      "execution_count": null,
      "outputs": []
    },
    {
      "cell_type": "code",
      "source": [
        "data['primary_fuel'].unnique()"
      ],
      "metadata": {
        "id": "Y-NquaLW_Rtu"
      },
      "execution_count": null,
      "outputs": []
    },
    {
      "cell_type": "code",
      "source": [
        "data['geolocation_source'].unique()"
      ],
      "metadata": {
        "id": "R2QCfvCM_Xjn"
      },
      "execution_count": null,
      "outputs": []
    },
    {
      "cell_type": "code",
      "source": [
        "encoder = LabelEncoder()\n",
        "data['primary_fuel'] = encoder.fit_transform(df['primary_fuel'])\n",
        "data['geolocation_source'] = encoder.fit_transform(df['geolocation_source'])\n",
        "data['source'] = encoder.fit_transform(df['source'])"
      ],
      "metadata": {
        "id": "uC5Zqfhf_b1s"
      },
      "execution_count": null,
      "outputs": []
    },
    {
      "cell_type": "code",
      "source": [
        "data['geolocation_source'].unique()"
      ],
      "metadata": {
        "id": "K96Y5pR3_eQK"
      },
      "execution_count": null,
      "outputs": []
    },
    {
      "cell_type": "code",
      "source": [
        "data.info()"
      ],
      "metadata": {
        "id": "seW1Qpuq_kzB"
      },
      "execution_count": null,
      "outputs": []
    },
    {
      "cell_type": "markdown",
      "source": [
        "*By using zscore method for removal of OUTLIERS*"
      ],
      "metadata": {
        "id": "9o57AHGF_rg3"
      }
    },
    {
      "cell_type": "code",
      "source": [
        "from urllib.request import DataHandler\n",
        "z=np.abs(zscore(data[['generation_gwh_2013','generation_gwh_2014','generation_gwh_2015','generation_gwh_2016','generation_gwh_2017','capacity_mw']]))\n",
        "print(np.where(z>3))"
      ],
      "metadata": {
        "id": "jEDyK6QW_kuU"
      },
      "execution_count": null,
      "outputs": []
    },
    {
      "cell_type": "code",
      "source": [
        "z = np.abs(zscore(df[['generation_gwh_2013','generation_gwh_2014','generation_gwh_2015','generation_gwh_2016','generation_gwh_2017','capacity_mw']]))\n",
        "threshold = 3\n",
        "df1 = df[(z<3).all(axis = 1)]\n",
        "\n",
        "print (\"Shape of the dataframe before removing outliers: \", df.shape)\n",
        "print (\"Shape of the dataframe after removing outliers: \", df1.shape)\n",
        "print (\"Percentage of data loss post outlier removal: \", (df.shape[0]-df1.shape[0])/df.shape[0]*100)"
      ],
      "metadata": {
        "id": "hsrQb6vU_kqC"
      },
      "execution_count": null,
      "outputs": []
    },
    {
      "cell_type": "code",
      "source": [
        " # reassigning the changed dataframe name to our original dataframe name\n",
        "data=data1.copy()"
      ],
      "metadata": {
        "id": "0Sy2_T2x_kl3"
      },
      "execution_count": null,
      "outputs": []
    },
    {
      "cell_type": "code",
      "source": [
        "data.shape"
      ],
      "metadata": {
        "id": "gY9rn-QH_kg4"
      },
      "execution_count": null,
      "outputs": []
    },
    {
      "cell_type": "markdown",
      "source": [
        "*SKEWNESS HANDLING*"
      ],
      "metadata": {
        "id": "NPLFPv0wAGrK"
      }
    },
    {
      "cell_type": "code",
      "source": [
        "plt.figure(figsize=(18,20))\n",
        "for i in enumerate(df):\n",
        "    plt.subplot(8,4,i[0]+1)\n",
        "    sns.distplot(df[i[1]],color='g')"
      ],
      "metadata": {
        "id": "35viXs-F_--J"
      },
      "execution_count": null,
      "outputs": []
    },
    {
      "cell_type": "code",
      "source": [
        "data.skew()"
      ],
      "metadata": {
        "id": "-_inXO9S_-40"
      },
      "execution_count": null,
      "outputs": []
    },
    {
      "cell_type": "markdown",
      "source": [
        "skewness more than+/- 0.5 will we treated\n",
        "\n",
        "\n",
        "\n",
        "\n",
        "\n",
        "object columns will no be treated"
      ],
      "metadata": {
        "id": "8TgdleMgAQMc"
      }
    },
    {
      "cell_type": "code",
      "source": [
        "df[['capacity_mw',\"generation_gwh_2013\",'generation_gwh_2014','generation_gwh_2015','generation_gwh_2016','generation_gwh_2017']]=power_transform(df[['capacity_mw',\"generation_gwh_2013\",'generation_gwh_2014','generation_gwh_2015','generation_gwh_2016','generation_gwh_2017']])\n",
        "df.skew()"
      ],
      "metadata": {
        "id": "JDWZVdOc_-0l"
      },
      "execution_count": null,
      "outputs": []
    },
    {
      "cell_type": "markdown",
      "source": [
        "*First taking 'capacity_mw' as target creating Regression model*"
      ],
      "metadata": {
        "id": "r19XlxJXAXl2"
      }
    },
    {
      "cell_type": "markdown",
      "source": [
        "*Spliting the Dataset*"
      ],
      "metadata": {
        "id": "wdXa1fCZAaSF"
      }
    },
    {
      "cell_type": "code",
      "source": [
        "x=data.drop(['capacity_mw'],axis=1)\n",
        "y=data['capacity_mw']"
      ],
      "metadata": {
        "id": "sRYBRffH_-v_"
      },
      "execution_count": null,
      "outputs": []
    },
    {
      "cell_type": "code",
      "source": [
        "x.shape"
      ],
      "metadata": {
        "id": "7mC0qrbE_-rA"
      },
      "execution_count": null,
      "outputs": []
    },
    {
      "cell_type": "code",
      "source": [
        "y.shape"
      ],
      "metadata": {
        "id": "-g64jKCpAi2g"
      },
      "execution_count": null,
      "outputs": []
    },
    {
      "cell_type": "markdown",
      "source": [
        "*Scaling X values*"
      ],
      "metadata": {
        "id": "0rajrBPyAnDB"
      }
    },
    {
      "cell_type": "code",
      "source": [
        "sc=MinMaxScaler()\n",
        "x=sc.fit_transform(x)\n",
        "pd.DataFrame(x).isnull().sum()"
      ],
      "metadata": {
        "id": "5cmRl7jYAmSZ"
      },
      "execution_count": null,
      "outputs": []
    },
    {
      "cell_type": "code",
      "source": [
        "pd.DataFrame(x).describe()"
      ],
      "metadata": {
        "id": "4NrmmM3bAtxA"
      },
      "execution_count": null,
      "outputs": []
    },
    {
      "cell_type": "code",
      "source": [
        "pd.DataFrame(x).describe().T"
      ],
      "metadata": {
        "id": "yvH_zMCrAuDg"
      },
      "execution_count": null,
      "outputs": []
    },
    {
      "cell_type": "markdown",
      "source": [
        "*Data have been scaled*"
      ],
      "metadata": {
        "id": "tVE51qzeA2rC"
      }
    },
    {
      "cell_type": "markdown",
      "source": [
        "# MODEL BUILDING\n",
        "\n"
      ],
      "metadata": {
        "id": "WYfBXXlfA7G6"
      }
    },
    {
      "cell_type": "markdown",
      "source": [
        "## Linear Regression\n",
        "\n",
        "*CHECKING THE BEST RANDOM STATE FOR DATA SPLIT*"
      ],
      "metadata": {
        "id": "ELqCf1H7BBhz"
      }
    },
    {
      "cell_type": "code",
      "source": [
        "LR=LinearRegression()\n",
        "\n",
        "for i in range(0,100):\n",
        "    x_train,x_test,y_train,y_test=train_test_split(x,y,test_size=0.2,random_state=i)\n",
        "    LR.fit(x_train,y_train)\n",
        "    LR_predict_train=LR.predict(x_train)\n",
        "    LR_predict_test=LR.predict(x_test)\n",
        "    print(f'At random state {i}, The training accuracy is: {r2_score(y_train,LR_predict_train)}')\n",
        "    print(f'At random state {i}, The test accuracy is: {r2_score(y_test,LR_predict_test)}')\n",
        "    print('\\n')"
      ],
      "metadata": {
        "id": "ZC5LsNyoAt-t"
      },
      "execution_count": null,
      "outputs": []
    },
    {
      "cell_type": "markdown",
      "source": [
        "*random state=95 giving highest accuracy, choosing that as random state*"
      ],
      "metadata": {
        "id": "VUYxY1Y7BVk6"
      }
    },
    {
      "cell_type": "markdown",
      "source": [
        "# SPLITTING THE DATA WITH RANDOM STATE =95"
      ],
      "metadata": {
        "id": "Hse8OssZBZvh"
      }
    },
    {
      "cell_type": "markdown",
      "source": [
        "*Splitting the data into 73% training and 27% testing*"
      ],
      "metadata": {
        "id": "2HjIdw8jBcxY"
      }
    },
    {
      "cell_type": "code",
      "source": [
        "x_train,x_test,y_train,y_test=train_test_split(x,y,test_size=0.27,random_state=95)"
      ],
      "metadata": {
        "id": "_GYZk5oTBSI0"
      },
      "execution_count": null,
      "outputs": []
    },
    {
      "cell_type": "code",
      "source": [
        "x_train.shape"
      ],
      "metadata": {
        "id": "h7fOO0o_BSDn"
      },
      "execution_count": null,
      "outputs": []
    },
    {
      "cell_type": "code",
      "source": [
        "x_test.shape"
      ],
      "metadata": {
        "id": "xs9E2IxbBR-s"
      },
      "execution_count": null,
      "outputs": []
    },
    {
      "cell_type": "code",
      "source": [
        "y_train.shape"
      ],
      "metadata": {
        "id": "mj1ENDdYAt5D"
      },
      "execution_count": null,
      "outputs": []
    },
    {
      "cell_type": "code",
      "source": [
        "y_test.shape"
      ],
      "metadata": {
        "id": "xhUEFefkBxlE"
      },
      "execution_count": null,
      "outputs": []
    },
    {
      "cell_type": "code",
      "source": [
        "LR=LinearRegression()\n",
        "LR.fit(x_train,y_train)\n",
        "print(LR.score(x_train,y_train))\n",
        "LR_predict=LR.predict(x_test)"
      ],
      "metadata": {
        "id": "_BxmHXRbBz0n"
      },
      "execution_count": null,
      "outputs": []
    },
    {
      "cell_type": "code",
      "source": [
        "print('MSE:',mean_squared_error(LR_predict,y_test))\n",
        "print('MAE:',mean_absolute_error(LR_predict,y_test))\n",
        "print('r2_score:',r2_score(LR_predict,y_test))"
      ],
      "metadata": {
        "id": "ow2TW9uXBzv-"
      },
      "execution_count": null,
      "outputs": []
    },
    {
      "cell_type": "markdown",
      "source": [
        "# Ridge"
      ],
      "metadata": {
        "id": "EM5S2NDLB6yR"
      }
    },
    {
      "cell_type": "code",
      "source": [
        "R=Ridge()\n",
        "R.fit(x_train,y_train)\n",
        "print(R.score(x_train,y_train))\n",
        "R_predict=R.predict(x_test)"
      ],
      "metadata": {
        "id": "iArsgdIOBzrG"
      },
      "execution_count": null,
      "outputs": []
    },
    {
      "cell_type": "code",
      "source": [
        "print('MSE:',mean_squared_error(R_predict,y_test))\n",
        "print('MAE:',mean_absolute_error(R_predict,y_test))\n",
        "print('r2_score:',r2_score(R_predict,y_test))"
      ],
      "metadata": {
        "id": "i1-ItNV2Bzli"
      },
      "execution_count": null,
      "outputs": []
    },
    {
      "cell_type": "markdown",
      "source": [
        "# **SVR**\n",
        "\n",
        "# SVR(kernel='linear)"
      ],
      "metadata": {
        "id": "g9aVtxLyCB71"
      }
    },
    {
      "cell_type": "code",
      "source": [
        "svr=SVR(kernel='linear')\n",
        "svr.fit(x_train,y_train)\n",
        "print(svr.score(x_train,y_train))\n",
        "svr_predict=svr.predict(x_test)"
      ],
      "metadata": {
        "id": "wXBbBziICK9v"
      },
      "execution_count": null,
      "outputs": []
    },
    {
      "cell_type": "code",
      "source": [
        "print('MSE:',mean_squared_error(svr_predict,y_test))\n",
        "print('MAE:',mean_absolute_error(svr_predict,y_test))\n",
        "print('r2_score:',r2_score(svr_predict,y_test))"
      ],
      "metadata": {
        "id": "UAWjIyDPCMi9"
      },
      "execution_count": null,
      "outputs": []
    },
    {
      "cell_type": "code",
      "source": [
        "svr_p=SVR(kernel='poly')\n",
        "svr_p.fit(x_train,y_train)\n",
        "print(svr_p.score(x_train,y_train))\n",
        "svrpred_p=svr_p.predict(x_test)"
      ],
      "metadata": {
        "id": "2wbyd04CCMda"
      },
      "execution_count": null,
      "outputs": []
    },
    {
      "cell_type": "code",
      "source": [
        "print('MSE:',mean_squared_error(svrpred_p,y_test))\n",
        "print('MAE:',mean_absolute_error(svrpred_p,y_test))\n",
        "print('r2_score:',r2_score(svrpred_p,y_test))"
      ],
      "metadata": {
        "id": "TaInci7UCMYg"
      },
      "execution_count": null,
      "outputs": []
    },
    {
      "cell_type": "code",
      "source": [
        "svr_r=SVR(kernel='rbf')\n",
        "svr_r.fit(x_train,y_train)\n",
        "print(svr_r.score(x_train,y_train))\n",
        "svrpred_r=svr_r.predict(x_test)"
      ],
      "metadata": {
        "id": "ttZ138meCMTk"
      },
      "execution_count": null,
      "outputs": []
    },
    {
      "cell_type": "code",
      "source": [
        "print('MSE:',mean_squared_error(svrpred_r,y_test))\n",
        "print('MAE:',mean_absolute_error(svrpred_r,y_test))\n",
        "print('r2_score:',r2_score(svrpred_r,y_test))"
      ],
      "metadata": {
        "id": "hGcFfEPmCMOM"
      },
      "execution_count": null,
      "outputs": []
    },
    {
      "cell_type": "markdown",
      "source": [
        "# RandomForestRegressor"
      ],
      "metadata": {
        "id": "dCrzPaWiCdlq"
      }
    },
    {
      "cell_type": "code",
      "source": [
        "RF=RandomForestRegressor()\n",
        "RF.fit(x_train,y_train)\n",
        "print(RF.score(x_train,y_train))\n",
        "RF_PRED=RF.predict(x_test)"
      ],
      "metadata": {
        "id": "5nDRcd77CdJG"
      },
      "execution_count": null,
      "outputs": []
    },
    {
      "cell_type": "code",
      "source": [
        "print('MSE:',mean_squared_error(RF_PRED,y_test))\n",
        "print('MAE:',mean_absolute_error(RF_PRED,y_test))\n",
        "print('r2_score:',r2_score(RF_PRED,y_test))"
      ],
      "metadata": {
        "id": "GpCFkcmJCdEM"
      },
      "execution_count": null,
      "outputs": []
    },
    {
      "cell_type": "markdown",
      "source": [
        "# DecisionTreeRegressor"
      ],
      "metadata": {
        "id": "cbkJg7VyCoo1"
      }
    },
    {
      "cell_type": "code",
      "source": [
        "DTR=DecisionTreeRegressor()\n",
        "DTR.fit(x_train,y_train)\n",
        "print(DTR.score(x_train,y_train))\n",
        "DTR_PRED=DTR.predict(x_test)"
      ],
      "metadata": {
        "id": "682ZEcQuCc-1"
      },
      "execution_count": null,
      "outputs": []
    },
    {
      "cell_type": "code",
      "source": [
        "print('MSE:',mean_squared_error(DTR_PRED,y_test))\n",
        "print('MAE:',mean_absolute_error(DTR_PRED,y_test))\n",
        "print('r2_score:',r2_score(DTR_PRED,y_test))"
      ],
      "metadata": {
        "id": "DlaOWZgLCc56"
      },
      "execution_count": null,
      "outputs": []
    },
    {
      "cell_type": "markdown",
      "source": [
        "# GradientBoostingRegressor"
      ],
      "metadata": {
        "id": "Xwu5evB_CtRl"
      }
    },
    {
      "cell_type": "code",
      "source": [
        "GBR=GradientBoostingRegressor()\n",
        "GBR.fit(x_train,y_train)\n",
        "print(GBR.score(x_train,y_train))\n",
        "GBR_PRED=GBR.predict(x_test)"
      ],
      "metadata": {
        "id": "P4EduuwnCc0v"
      },
      "execution_count": null,
      "outputs": []
    },
    {
      "cell_type": "code",
      "source": [
        "print('MSE:',mean_squared_error(GBR_PRED,y_test))\n",
        "print('MAE:',mean_absolute_error(GBR_PRED,y_test))\n",
        "print('r2_score:',r2_score(GBR_PRED,y_test))"
      ],
      "metadata": {
        "id": "y2SJDIYgCcvl"
      },
      "execution_count": null,
      "outputs": []
    },
    {
      "cell_type": "markdown",
      "source": [
        "# Cross Validation"
      ],
      "metadata": {
        "id": "WyikZc3lC4B8"
      }
    },
    {
      "cell_type": "code",
      "source": [
        "np.random.seed(10)\n",
        "def rmse_cv(model, x,y):\n",
        "    rmse =- (cross_val_score(model, x,y, scoring='neg_mean_squared_error', cv=10))\n",
        "    return(rmse)\n",
        "\n",
        "\n",
        "models = [LinearRegression(),\n",
        "             Ridge(),\n",
        "             SVR(kernel='linear'),\n",
        "             SVR(kernel='poly'),\n",
        "             SVR(kernel='rbf'),\n",
        "             RandomForestRegressor(),\n",
        "             DecisionTreeRegressor(),\n",
        "             GradientBoostingRegressor(),]\n",
        "\n",
        "\n",
        "\n",
        "names = ['LR','R','svr','svr_p','svr_r','RF','DTR','GBR']\n",
        "\n",
        "for model,name in zip(models,names):\n",
        "    score = rmse_cv(model,x,y)\n",
        "    print(\"{}    : {:.6f}, {:4f}\".format(name,score.mean(),score.std()))"
      ],
      "metadata": {
        "id": "mZ1PgoJ6C85V"
      },
      "execution_count": null,
      "outputs": []
    },
    {
      "cell_type": "markdown",
      "source": [
        "# HYPER PARAMETER TUNING:"
      ],
      "metadata": {
        "id": "gAMkuyhdDCUr"
      }
    },
    {
      "cell_type": "markdown",
      "source": [
        "GridSearchCV"
      ],
      "metadata": {
        "id": "tYmNwo8lDEQ8"
      }
    },
    {
      "cell_type": "markdown",
      "source": [
        "# With GradientBoostingRegressor\n"
      ],
      "metadata": {
        "id": "CqjplGXvDGLy"
      }
    },
    {
      "cell_type": "code",
      "source": [
        "GF=GradientBoostingRegressor()\n",
        "param={\n",
        "     'criterion':['mse','mae'],\n",
        "     'n_estimators':[100, 200],\n",
        "    }"
      ],
      "metadata": {
        "id": "9LZ6NTWVDJBX"
      },
      "execution_count": null,
      "outputs": []
    },
    {
      "cell_type": "code",
      "source": [
        "GF_grid=GridSearchCV(RandomForestRegressor(),param,cv=10,scoring='accuracy',n_jobs=-1,verbose=2)"
      ],
      "metadata": {
        "id": "J8E0w10ADSw3"
      },
      "execution_count": null,
      "outputs": []
    },
    {
      "cell_type": "code",
      "source": [
        "GF_grid.fit(x_train,y_train)\n",
        "GF_grid_pred=GF_grid.best_estimator_.predict(x_test)"
      ],
      "metadata": {
        "id": "u5Piwh-QDVEc"
      },
      "execution_count": null,
      "outputs": []
    },
    {
      "cell_type": "code",
      "source": [
        "GF_grid.best_params_"
      ],
      "metadata": {
        "id": "HMvjVXecDXlx"
      },
      "execution_count": null,
      "outputs": []
    },
    {
      "cell_type": "code",
      "source": [
        "print('MSE:',mean_squared_error(GF_grid_pred,y_test))\n",
        "print('MAE:',mean_absolute_error(GF_grid_pred,y_test))\n",
        "print('r2_score:',r2_score(GF_grid_pred,y_test))"
      ],
      "metadata": {
        "id": "jG-XuEzRDZTQ"
      },
      "execution_count": null,
      "outputs": []
    },
    {
      "cell_type": "code",
      "source": [
        "sns.distplot(GF_grid_pred-y_test)"
      ],
      "metadata": {
        "id": "up3fqOQ1DZNP"
      },
      "execution_count": null,
      "outputs": []
    },
    {
      "cell_type": "code",
      "source": [
        "plt.scatter(GF_grid_pred,y_test)\n",
        "plt.plot(y_test,y_test,linewidth=2,color='Red')"
      ],
      "metadata": {
        "id": "-rDDCfnJDZHd"
      },
      "execution_count": null,
      "outputs": []
    },
    {
      "cell_type": "markdown",
      "source": [
        "# Choosing GradientBoostingRegressor as the best model"
      ],
      "metadata": {
        "id": "vk7SNEaYDjAM"
      }
    },
    {
      "cell_type": "markdown",
      "source": [
        "# TAKING 'primary_fuel' AS TARGET , CREATING CLASSIFICATION MODEL Dividing data into X and Y"
      ],
      "metadata": {
        "id": "6s35hznrDi5e"
      }
    },
    {
      "cell_type": "code",
      "source": [
        "x=df.drop(['primary_fuel'],axis=1)\n",
        "y=df['primary_fuel']"
      ],
      "metadata": {
        "id": "agplswh9DZCQ"
      },
      "execution_count": null,
      "outputs": []
    },
    {
      "cell_type": "code",
      "source": [
        "x.shape"
      ],
      "metadata": {
        "id": "yv5aRqTrDY8s"
      },
      "execution_count": null,
      "outputs": []
    },
    {
      "cell_type": "code",
      "source": [
        "y.shape"
      ],
      "metadata": {
        "id": "MEAzXCcmDY3p"
      },
      "execution_count": null,
      "outputs": []
    },
    {
      "cell_type": "markdown",
      "source": [
        "# Spliting Train and Test data"
      ],
      "metadata": {
        "id": "z9C-yhGyDvn3"
      }
    },
    {
      "cell_type": "code",
      "source": [
        "x_train,x_test,y_train,y_test=train_test_split(x,y,test_size=.27,random_state=42)"
      ],
      "metadata": {
        "id": "zniiXkLWDYyh"
      },
      "execution_count": null,
      "outputs": []
    },
    {
      "cell_type": "code",
      "source": [
        "x_train.shape"
      ],
      "metadata": {
        "id": "jhxZogC_DYs1"
      },
      "execution_count": null,
      "outputs": []
    },
    {
      "cell_type": "code",
      "source": [
        "x_test.shape"
      ],
      "metadata": {
        "id": "VrbbjRTCD0Kl"
      },
      "execution_count": null,
      "outputs": []
    },
    {
      "cell_type": "code",
      "source": [
        "y_train.shape"
      ],
      "metadata": {
        "id": "9r_3wSYFD0Ds"
      },
      "execution_count": null,
      "outputs": []
    },
    {
      "cell_type": "code",
      "source": [
        "y_test.shape"
      ],
      "metadata": {
        "id": "dZ50HvB1Dz9c"
      },
      "execution_count": null,
      "outputs": []
    },
    {
      "cell_type": "markdown",
      "source": [
        "# **MODEL BUILDING**"
      ],
      "metadata": {
        "id": "hohC_hwOECUu"
      }
    },
    {
      "cell_type": "code",
      "source": [
        "#Importing necessary libraries\n",
        "\n",
        "from sklearn.linear_model import LogisticRegression\n",
        "\n",
        "from sklearn.svm import SVC\n",
        "from sklearn.tree import DecisionTreeClassifier\n",
        "from sklearn.neighbors import KNeighborsClassifier\n",
        "from sklearn.model_selection import train_test_split\n",
        "from sklearn.metrics import accuracy_score,confusion_matrix,classification_report\n",
        "from sklearn.ensemble import RandomForestClassifier\n",
        "from sklearn.ensemble import AdaBoostClassifier\n",
        "from sklearn.ensemble import BaggingClassifier\n",
        "from sklearn.ensemble import GradientBoostingClassifier\n",
        "from sklearn.model_selection import GridSearchCV\n",
        "from sklearn.metrics import precision_score\n",
        "from sklearn.metrics import recall_score\n",
        "from sklearn.metrics import f1_score\n",
        "from sklearn.metrics import roc_auc_score"
      ],
      "metadata": {
        "id": "7NX1GOvvDz2h"
      },
      "execution_count": null,
      "outputs": []
    },
    {
      "cell_type": "markdown",
      "source": [
        "# LogisticRegression"
      ],
      "metadata": {
        "id": "oVuzPRAuEId5"
      }
    },
    {
      "cell_type": "code",
      "source": [
        "logreg=LogisticRegression()\n",
        "logreg_score=cross_val_score(logreg,x,y,cv=5,scoring='accuracy')\n",
        "print(\"cross validation score:\",np.mean(logreg_score))"
      ],
      "metadata": {
        "id": "7Ptn9anrDzxh"
      },
      "execution_count": null,
      "outputs": []
    },
    {
      "cell_type": "code",
      "source": [
        "logreg.fit(x_train,y_train)\n",
        "LR_predicted=logreg.predict(x_test)\n",
        "\n",
        "print(accuracy_score(y_test,LR_predicted))\n",
        "print(confusion_matrix(y_test,LR_predicted))\n",
        "print(classification_report(y_test,LR_predicted))\n",
        "print(\"Training accuracy::\",logreg.score(x_train,y_train))\n",
        "print(\"Test accuracy::\",logreg.score(x_test,y_test))"
      ],
      "metadata": {
        "id": "HsvEVB9DDzr2"
      },
      "execution_count": null,
      "outputs": []
    },
    {
      "cell_type": "markdown",
      "source": [
        "# DECISION TREE CLASSIFIER"
      ],
      "metadata": {
        "id": "rsHE52zDEUE7"
      }
    },
    {
      "cell_type": "code",
      "source": [
        "dtc=DecisionTreeClassifier()\n",
        "dtc_score=cross_val_score(dtc,x,y,cv=5,scoring='accuracy')\n",
        "print(\"cross validation score for svm:\",np.mean(dtc_score))"
      ],
      "metadata": {
        "id": "mWnw40PrDzlr"
      },
      "execution_count": null,
      "outputs": []
    },
    {
      "cell_type": "code",
      "source": [
        "dtc.fit(x_train,y_train)\n",
        "predicted_dtc=dtc.predict(x_test)\n",
        "print(accuracy_score(y_test,predicted_dtc))\n",
        "print(confusion_matrix(y_test,predicted_dtc))\n",
        "print(classification_report(y_test,predicted_dtc))\n",
        "print(\"Training accuracy::\",dtc.score(x_train,y_train))\n",
        "print(\"Test accuracy::\",dtc.score(x_test,y_test))"
      ],
      "metadata": {
        "id": "Z_GzwVSaER8P"
      },
      "execution_count": null,
      "outputs": []
    },
    {
      "cell_type": "markdown",
      "source": [
        "# KNeighborsClassifier"
      ],
      "metadata": {
        "id": "Vf7lHEGGEdKd"
      }
    },
    {
      "cell_type": "code",
      "source": [
        "knn=KNeighborsClassifier()\n",
        "knn_score=cross_val_score(knn,x,y,cv=5,scoring='accuracy')\n",
        "print(\"cross validation score for knn:\",np.mean(knn_score))"
      ],
      "metadata": {
        "id": "bNT8T6aMER18"
      },
      "execution_count": null,
      "outputs": []
    },
    {
      "cell_type": "code",
      "source": [
        "knn.fit(x_train,y_train)\n",
        "predicted_knn=knn.predict(x_test)\n",
        "print(accuracy_score(y_test,predicted_knn))\n",
        "print(confusion_matrix(y_test,predicted_knn))\n",
        "print(classification_report(y_test,predicted_knn))\n",
        "print(\"Training accuracy::\",knn.score(x_train,y_train))\n",
        "print(\"Test accuracy::\",knn.score(x_test,y_test))"
      ],
      "metadata": {
        "id": "6kquyqS8ERsu"
      },
      "execution_count": null,
      "outputs": []
    },
    {
      "cell_type": "markdown",
      "source": [
        "# RandomForestClassifier"
      ],
      "metadata": {
        "id": "AG1pl2j4EkYk"
      }
    },
    {
      "cell_type": "code",
      "source": [
        "rfc=RandomForestClassifier()\n",
        "rfc_score=cross_val_score(rfc,x,y,cv=5,scoring='accuracy')\n",
        "print(\"cross validation score for rfc:\",np.mean(rfc_score))"
      ],
      "metadata": {
        "id": "mP6omfqhERlY"
      },
      "execution_count": null,
      "outputs": []
    },
    {
      "cell_type": "code",
      "source": [
        "rfc.fit(x_train,y_train)\n",
        "predicted_rfc=rfc.predict(x_test)\n",
        "print(accuracy_score(y_test,predicted_rfc))\n",
        "print(confusion_matrix(y_test,predicted_rfc))\n",
        "print(classification_report(y_test,predicted_rfc))\n",
        "print(\"Training accuracy::\",rfc.score(x_train,y_train))\n",
        "print(\"Test accuracy::\",rfc.score(x_test,y_test))"
      ],
      "metadata": {
        "id": "Icw4T5KmERf3"
      },
      "execution_count": null,
      "outputs": []
    },
    {
      "cell_type": "markdown",
      "source": [
        "# ENSEMBLE TECHNIQUES\n"
      ],
      "metadata": {
        "id": "rE8kOJvmEvwy"
      }
    },
    {
      "cell_type": "markdown",
      "source": [
        "# 1. ADA BOOST CLASSIFIER"
      ],
      "metadata": {
        "id": "m6Czj79cEyXA"
      }
    },
    {
      "cell_type": "code",
      "source": [
        "adb=AdaBoostClassifier()\n",
        "adb_score=cross_val_score(adb,x,y,cv=10,scoring='accuracy')\n",
        "print(\"cross validation score for Ada boost:\",np.mean(adb_score))"
      ],
      "metadata": {
        "id": "lVuQKQPEERah"
      },
      "execution_count": null,
      "outputs": []
    },
    {
      "cell_type": "code",
      "source": [
        "adb.fit(x_train,y_train)\n",
        "predicted_adb=adb.predict(x_test)\n",
        "print(accuracy_score(y_test,predicted_adb))\n",
        "print(confusion_matrix(y_test,predicted_adb))\n",
        "print(classification_report(y_test,predicted_adb))\n",
        "print(\"Training accuracy::\",adb.score(x_train,y_train))\n",
        "print(\"Test accuracy::\",adb.score(x_test,y_test))"
      ],
      "metadata": {
        "id": "mq5438gVERUc"
      },
      "execution_count": null,
      "outputs": []
    },
    {
      "cell_type": "markdown",
      "source": [
        "# 2. BAGGING CLASSIFIER"
      ],
      "metadata": {
        "id": "EFj7FKaVE74F"
      }
    },
    {
      "cell_type": "code",
      "source": [
        "bgc=BaggingClassifier()\n",
        "bgc_score=cross_val_score(bgc,x,y,cv=10,scoring='accuracy')\n",
        "print(\"cross validation score for BAGGING Classifier:\",np.mean(bgc_score))"
      ],
      "metadata": {
        "id": "TNOnRMq0E_dw"
      },
      "execution_count": null,
      "outputs": []
    },
    {
      "cell_type": "code",
      "source": [
        "bgc.fit(x_train,y_train)\n",
        "predicted_bgc=bgc.predict(x_test)\n",
        "print(accuracy_score(y_test,predicted_bgc))\n",
        "print(confusion_matrix(y_test,predicted_bgc))\n",
        "print(classification_report(y_test,predicted_bgc))\n",
        "print(\"Training accuracy::\",bgc.score(x_train,y_train))\n",
        "print(\"Test accuracy::\",bgc.score(x_test,y_test))"
      ],
      "metadata": {
        "id": "zLtTJEddE_5K"
      },
      "execution_count": null,
      "outputs": []
    },
    {
      "cell_type": "markdown",
      "source": [
        "# 3. Gradient Boosting classifier\n",
        "\n"
      ],
      "metadata": {
        "id": "uqQVBMEhFJTq"
      }
    },
    {
      "cell_type": "code",
      "source": [
        "grbc=GradientBoostingClassifier()\n",
        "grbc_score=cross_val_score(grbc,x,y,cv=10,scoring='accuracy')\n",
        "print(\"cross validation score for Gradient Boosting Classifier:\",np.mean(grbc_score))"
      ],
      "metadata": {
        "id": "mmZ4_-dGE_zF"
      },
      "execution_count": null,
      "outputs": []
    },
    {
      "cell_type": "code",
      "source": [
        "grbc.fit(x_train,y_train)\n",
        "predicted_grbc=grbc.predict(x_test)\n",
        "print(accuracy_score(y_test,predicted_grbc))\n",
        "print(confusion_matrix(y_test,predicted_grbc))\n",
        "print(classification_report(y_test,predicted_grbc))\n",
        "print(\"Training accuracy::\",grbc.score(x_train,y_train))\n",
        "print(\"Test accuracy::\",grbc.score(x_test,y_test))"
      ],
      "metadata": {
        "id": "T-Qtv8QiE_tQ"
      },
      "execution_count": null,
      "outputs": []
    },
    {
      "cell_type": "markdown",
      "source": [
        "# HYPER PARAMETER TUNING:"
      ],
      "metadata": {
        "id": "C8rmYkIHFSLH"
      }
    },
    {
      "cell_type": "code",
      "source": [
        "rfc=RandomForestClassifier()\n",
        "param_grid={\n",
        "    'criterion' : [\"gini\", \"entropy\"],\n",
        "    'n_estimators':[200,50],\n",
        "    'min_samples_split':[2,3],\n",
        "     'random_state':[10]\n",
        "}"
      ],
      "metadata": {
        "id": "6Q7NiRx8E_mt"
      },
      "execution_count": null,
      "outputs": []
    },
    {
      "cell_type": "code",
      "source": [
        "rfc_grid=GridSearchCV(RandomForestClassifier(),param_grid,cv=4,scoring='accuracy',n_jobs=-1,verbose=2)"
      ],
      "metadata": {
        "id": "GuqVhAGXFWlc"
      },
      "execution_count": null,
      "outputs": []
    },
    {
      "cell_type": "code",
      "source": [
        "rfc_grid.fit(x_train,y_train)\n",
        "rfc_pred=rfc_grid.best_estimator_.predict(x_test)\n",
        "print(\"Accuracy after parameter tuning::\",accuracy_score(y_test,rfc_pred))"
      ],
      "metadata": {
        "id": "coYTQw7HFYdD"
      },
      "execution_count": null,
      "outputs": []
    },
    {
      "cell_type": "code",
      "source": [
        "rfc_grid.best_params_"
      ],
      "metadata": {
        "id": "imF_TUNaFcRW"
      },
      "execution_count": null,
      "outputs": []
    },
    {
      "cell_type": "markdown",
      "source": [
        "# Model training with best parameters"
      ],
      "metadata": {
        "id": "rjoCqEbtFfPX"
      }
    },
    {
      "cell_type": "code",
      "source": [
        "best_param={\n",
        "    'criterion' : ['gini'],\n",
        "    'n_estimators':[200],\n",
        "    'min_samples_split':[2],\n",
        "     'random_state':[10]    }"
      ],
      "metadata": {
        "id": "qTMNrC80Fhji"
      },
      "execution_count": null,
      "outputs": []
    },
    {
      "cell_type": "code",
      "source": [
        "best_rfc_grid=GridSearchCV(RandomForestClassifier(),best_param,cv=4,scoring='accuracy',n_jobs=-1,verbose=2)"
      ],
      "metadata": {
        "id": "1a4D1mbbFjzT"
      },
      "execution_count": null,
      "outputs": []
    },
    {
      "cell_type": "code",
      "source": [
        "best_rfc_grid.fit(x_train,y_train)\n",
        "best_rfc_pred=best_rfc_grid.best_estimator_.predict(x_test)\n",
        "print(\"Accuracy after parameter tuning::\",accuracy_score(y_test,best_rfc_pred))"
      ],
      "metadata": {
        "id": "9YkXt2XWFjtO"
      },
      "execution_count": null,
      "outputs": []
    },
    {
      "cell_type": "markdown",
      "source": [
        "# Report of RandomForestClassifier"
      ],
      "metadata": {
        "id": "rd22HmPOFpDy"
      }
    },
    {
      "cell_type": "code",
      "source": [
        "print(\"CLASSIFICATION REPORT::\\n\",classification_report(y_test,best_rfc_pred))"
      ],
      "metadata": {
        "id": "qBOtMydbFjnH"
      },
      "execution_count": null,
      "outputs": []
    },
    {
      "cell_type": "code",
      "source": [
        "clsf_repo = classification_report(y_test,best_rfc_pred,output_dict=True)\n",
        "sns.heatmap(pd.DataFrame(clsf_repo).T, annot=True)"
      ],
      "metadata": {
        "id": "hQU1L2raFjYe"
      },
      "execution_count": null,
      "outputs": []
    },
    {
      "cell_type": "code",
      "source": [
        "y_prob = best_rfc_grid.fit(x_train,y_train).predict_proba(x_test)\n",
        "\n",
        "macro_roc_auc_ovo = roc_auc_score(y_test, y_prob, multi_class=\"ovo\", average=\"macro\")\n",
        "weighted_roc_auc_ovo = roc_auc_score(y_test, y_prob, multi_class=\"ovo\", average=\"weighted\")\n",
        "macro_roc_auc_ovr = roc_auc_score(y_test, y_prob, multi_class=\"ovr\", average=\"macro\")\n",
        "weighted_roc_auc_ovr = roc_auc_score(y_test, y_prob, multi_class=\"ovr\", average=\"weighted\")\n",
        "print(\"One-vs-One ROC AUC scores:\\n{:.6f} (macro),\\n{:.6f} \"\n",
        "      \"(weighted by prevalence)\"\n",
        "      .format(macro_roc_auc_ovo, weighted_roc_auc_ovo))\n",
        "print(\"=\"*40)\n",
        "print(\"One-vs-Rest ROC AUC scores:\\n{:.6f} (macro),\\n{:.6f} \"\n",
        "      \"(weighted by prevalence)\"\n",
        "      .format(macro_roc_auc_ovr, weighted_roc_auc_ovr))"
      ],
      "metadata": {
        "id": "5SvUH-lMFwtT"
      },
      "execution_count": null,
      "outputs": []
    },
    {
      "cell_type": "markdown",
      "source": [
        "# Saving Model:"
      ],
      "metadata": {
        "id": "syFvvOYtF00m"
      }
    },
    {
      "cell_type": "code",
      "source": [
        "import joblib\n",
        "joblib.dump(best_rfc_grid.best_estimator_,'Global Power Plant Classification.obj')"
      ],
      "metadata": {
        "id": "EibxDXuRFytX"
      },
      "execution_count": null,
      "outputs": []
    },
    {
      "cell_type": "code",
      "source": [],
      "metadata": {
        "id": "ZVnFUOu4FymM"
      },
      "execution_count": null,
      "outputs": []
    },
    {
      "cell_type": "code",
      "source": [],
      "metadata": {
        "id": "tGJpFd1tFygF"
      },
      "execution_count": null,
      "outputs": []
    },
    {
      "cell_type": "code",
      "source": [],
      "metadata": {
        "id": "jxjBm1FEFyaI"
      },
      "execution_count": null,
      "outputs": []
    },
    {
      "cell_type": "code",
      "source": [],
      "metadata": {
        "id": "92oBOG7_FyTN"
      },
      "execution_count": null,
      "outputs": []
    }
  ]
}